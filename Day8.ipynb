{
 "cells": [
  {
   "cell_type": "code",
   "execution_count": 1,
   "metadata": {},
   "outputs": [],
   "source": [
    "def myfunc(a, b, c=10, d='hello'):\n",
    "    print(a, b, c, d)"
   ]
  },
  {
   "cell_type": "code",
   "execution_count": 2,
   "metadata": {},
   "outputs": [
    {
     "name": "stdout",
     "output_type": "stream",
     "text": [
      "1 2 10 hello\n"
     ]
    }
   ],
   "source": [
    "myfunc(1, 2)"
   ]
  },
  {
   "cell_type": "code",
   "execution_count": 3,
   "metadata": {},
   "outputs": [
    {
     "name": "stdout",
     "output_type": "stream",
     "text": [
      "1 2 hello hello\n"
     ]
    }
   ],
   "source": [
    "myfunc(1, 2, 'hello')"
   ]
  },
  {
   "cell_type": "code",
   "execution_count": 4,
   "metadata": {},
   "outputs": [
    {
     "name": "stdout",
     "output_type": "stream",
     "text": [
      "1 2 10 hello\n"
     ]
    }
   ],
   "source": [
    "myfunc(1, 2, d='hello')"
   ]
  },
  {
   "cell_type": "code",
   "execution_count": 5,
   "metadata": {},
   "outputs": [
    {
     "name": "stdout",
     "output_type": "stream",
     "text": [
      "1 2 10 hello\n"
     ]
    }
   ],
   "source": [
    "myfunc(1, 2, d='hello', c=10)"
   ]
  },
  {
   "cell_type": "code",
   "execution_count": 7,
   "metadata": {},
   "outputs": [
    {
     "name": "stdout",
     "output_type": "stream",
     "text": [
      "1 2 hello 10\n"
     ]
    }
   ],
   "source": [
    "myfunc(1, 2, 'hello', 10)"
   ]
  },
  {
   "cell_type": "code",
   "execution_count": 21,
   "metadata": {},
   "outputs": [],
   "source": [
    "def mysum(*items):\n",
    "    print(items, type(items))\n",
    "    total = 0\n",
    "    for i in items:\n",
    "        total += i\n",
    "    return total"
   ]
  },
  {
   "cell_type": "code",
   "execution_count": 3,
   "metadata": {},
   "outputs": [],
   "source": [
    "def mysum_list(items):\n",
    "    total = 0\n",
    "    for i in items:\n",
    "        total += i\n",
    "    return total"
   ]
  },
  {
   "cell_type": "code",
   "execution_count": 22,
   "metadata": {},
   "outputs": [
    {
     "name": "stdout",
     "output_type": "stream",
     "text": [
      "(array([1, 2, 3]), array([4, 5, 6]), 9) <class 'tuple'>\n",
      "[14 16 18]\n",
      "15\n"
     ]
    }
   ],
   "source": [
    "import numpy as np\n",
    "print(mysum(np.array([1, 2, 3]), np.array([4, 5, 6]), 9))\n",
    "print(mysum_list([4, 5, 6]))"
   ]
  },
  {
   "cell_type": "code",
   "execution_count": 19,
   "metadata": {},
   "outputs": [],
   "source": [
    "def my_max(*items):\n",
    "    if len(items) == 0:\n",
    "        return None\n",
    "    m = items[0]\n",
    "    for i in items:\n",
    "        if i > m:\n",
    "            m = i\n",
    "    return m"
   ]
  },
  {
   "cell_type": "code",
   "execution_count": 20,
   "metadata": {},
   "outputs": [
    {
     "name": "stdout",
     "output_type": "stream",
     "text": [
      "5\n",
      "45\n",
      "None\n"
     ]
    }
   ],
   "source": [
    "print(my_max(4, 5))\n",
    "print(my_max(4, 45, 19))\n",
    "print(my_max())"
   ]
  },
  {
   "cell_type": "code",
   "execution_count": 25,
   "metadata": {},
   "outputs": [],
   "source": [
    "def min_max(items):\n",
    "    mi = min(items)\n",
    "    ma = max(items)\n",
    "    return mi, ma"
   ]
  },
  {
   "cell_type": "code",
   "execution_count": 27,
   "metadata": {},
   "outputs": [
    {
     "name": "stdout",
     "output_type": "stream",
     "text": [
      "[ 6 25 64 73 83 53 19 49 62 15]\n",
      "Min = 6 Max = 83\n"
     ]
    }
   ],
   "source": [
    "numbers = np.random.randint(1, 100, 10)\n",
    "print(numbers)\n",
    "a, b = min_max(numbers)\n",
    "print('Min =', a, 'Max =', b)"
   ]
  },
  {
   "cell_type": "code",
   "execution_count": 29,
   "metadata": {},
   "outputs": [
    {
     "name": "stdout",
     "output_type": "stream",
     "text": [
      "Min = 6 Max = 83\n"
     ]
    }
   ],
   "source": [
    "ab = min_max(numbers)\n",
    "print('Min =', ab[0], 'Max =', ab[1])"
   ]
  },
  {
   "cell_type": "code",
   "execution_count": 35,
   "metadata": {},
   "outputs": [],
   "source": [
    "def less_than(a, b):\n",
    "    return a < b\n",
    "def greater_than(a, b):\n",
    "    return a > b\n",
    "def my_min_max(items, compare=less_than):\n",
    "    m = items[0]\n",
    "    for i in items:\n",
    "        if compare(i, m):\n",
    "            m = i\n",
    "    return m"
   ]
  },
  {
   "cell_type": "code",
   "execution_count": 36,
   "metadata": {},
   "outputs": [
    {
     "name": "stdout",
     "output_type": "stream",
     "text": [
      "8\n"
     ]
    }
   ],
   "source": [
    "print(my_min_max([4, 5, 8, 2], compare=greater_than))"
   ]
  },
  {
   "cell_type": "code",
   "execution_count": 37,
   "metadata": {},
   "outputs": [
    {
     "name": "stdout",
     "output_type": "stream",
     "text": [
      "[ 6 25 64 73 83 53 19 49 62 15]\n"
     ]
    }
   ],
   "source": [
    "print(numbers)"
   ]
  },
  {
   "cell_type": "code",
   "execution_count": 39,
   "metadata": {},
   "outputs": [
    {
     "name": "stdout",
     "output_type": "stream",
     "text": [
      "62\n",
      "19\n"
     ]
    }
   ],
   "source": [
    "def less_than_digit(a, b):\n",
    "    return a % 10 < b % 10\n",
    "def greater_than_digit(a, b):\n",
    "    return a % 10 > b % 10\n",
    "print(my_min_max(numbers, compare=less_than_digit))\n",
    "print(my_min_max(numbers, compare=greater_than_digit))"
   ]
  },
  {
   "cell_type": "code",
   "execution_count": null,
   "metadata": {},
   "outputs": [],
   "source": [
    "names = ['John Murray', 'Mike Smith', 'Sara Henderson', 'Laura Amstrong', 'Zack Swzenks']\n",
    "# Find longest name\n",
    "# Find shortest name\n",
    "# Find name that has least vowels\n",
    "# Find name that has most vowels"
   ]
  }
 ],
 "metadata": {
  "kernelspec": {
   "display_name": "Python 3.9.12 64-bit",
   "language": "python",
   "name": "python3"
  },
  "language_info": {
   "codemirror_mode": {
    "name": "ipython",
    "version": 3
   },
   "file_extension": ".py",
   "mimetype": "text/x-python",
   "name": "python",
   "nbconvert_exporter": "python",
   "pygments_lexer": "ipython3",
   "version": "3.9.12"
  },
  "orig_nbformat": 4,
  "vscode": {
   "interpreter": {
    "hash": "aee8b7b246df8f9039afb4144a1f6fd8d2ca17a180786b69acc140d282b71a49"
   }
  }
 },
 "nbformat": 4,
 "nbformat_minor": 2
}
