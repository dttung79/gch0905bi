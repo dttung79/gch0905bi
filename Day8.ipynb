{
 "cells": [
  {
   "cell_type": "code",
   "execution_count": 1,
   "metadata": {},
   "outputs": [],
   "source": [
    "def myfunc(a, b, c=10, d='hello'):\n",
    "    print(a, b, c, d)"
   ]
  },
  {
   "cell_type": "code",
   "execution_count": 2,
   "metadata": {},
   "outputs": [
    {
     "name": "stdout",
     "output_type": "stream",
     "text": [
      "1 2 10 hello\n"
     ]
    }
   ],
   "source": [
    "myfunc(1, 2)"
   ]
  },
  {
   "cell_type": "code",
   "execution_count": 3,
   "metadata": {},
   "outputs": [
    {
     "name": "stdout",
     "output_type": "stream",
     "text": [
      "1 2 hello hello\n"
     ]
    }
   ],
   "source": [
    "myfunc(1, 2, 'hello')"
   ]
  },
  {
   "cell_type": "code",
   "execution_count": 4,
   "metadata": {},
   "outputs": [
    {
     "name": "stdout",
     "output_type": "stream",
     "text": [
      "1 2 10 hello\n"
     ]
    }
   ],
   "source": [
    "myfunc(1, 2, d='hello')"
   ]
  },
  {
   "cell_type": "code",
   "execution_count": 5,
   "metadata": {},
   "outputs": [
    {
     "name": "stdout",
     "output_type": "stream",
     "text": [
      "1 2 10 hello\n"
     ]
    }
   ],
   "source": [
    "myfunc(1, 2, d='hello', c=10)"
   ]
  },
  {
   "cell_type": "code",
   "execution_count": 7,
   "metadata": {},
   "outputs": [
    {
     "name": "stdout",
     "output_type": "stream",
     "text": [
      "1 2 hello 10\n"
     ]
    }
   ],
   "source": [
    "myfunc(1, 2, 'hello', 10)"
   ]
  },
  {
   "cell_type": "code",
   "execution_count": 21,
   "metadata": {},
   "outputs": [],
   "source": [
    "def mysum(*items):\n",
    "    print(items, type(items))\n",
    "    total = 0\n",
    "    for i in items:\n",
    "        total += i\n",
    "    return total"
   ]
  },
  {
   "cell_type": "code",
   "execution_count": 3,
   "metadata": {},
   "outputs": [],
   "source": [
    "def mysum_list(items):\n",
    "    total = 0\n",
    "    for i in items:\n",
    "        total += i\n",
    "    return total"
   ]
  },
  {
   "cell_type": "code",
   "execution_count": 22,
   "metadata": {},
   "outputs": [
    {
     "name": "stdout",
     "output_type": "stream",
     "text": [
      "(array([1, 2, 3]), array([4, 5, 6]), 9) <class 'tuple'>\n",
      "[14 16 18]\n",
      "15\n"
     ]
    }
   ],
   "source": [
    "import numpy as np\n",
    "print(mysum(np.array([1, 2, 3]), np.array([4, 5, 6]), 9))\n",
    "print(mysum_list([4, 5, 6]))"
   ]
  },
  {
   "cell_type": "code",
   "execution_count": 19,
   "metadata": {},
   "outputs": [],
   "source": [
    "def my_max(*items):\n",
    "    if len(items) == 0:\n",
    "        return None\n",
    "    m = items[0]\n",
    "    for i in items:\n",
    "        if i > m:\n",
    "            m = i\n",
    "    return m"
   ]
  },
  {
   "cell_type": "code",
   "execution_count": 20,
   "metadata": {},
   "outputs": [
    {
     "name": "stdout",
     "output_type": "stream",
     "text": [
      "5\n",
      "45\n",
      "None\n"
     ]
    }
   ],
   "source": [
    "print(my_max(4, 5))\n",
    "print(my_max(4, 45, 19))\n",
    "print(my_max())"
   ]
  },
  {
   "cell_type": "code",
   "execution_count": 25,
   "metadata": {},
   "outputs": [],
   "source": [
    "def min_max(items):\n",
    "    mi = min(items)\n",
    "    ma = max(items)\n",
    "    return mi, ma"
   ]
  },
  {
   "cell_type": "code",
   "execution_count": 27,
   "metadata": {},
   "outputs": [
    {
     "name": "stdout",
     "output_type": "stream",
     "text": [
      "[ 6 25 64 73 83 53 19 49 62 15]\n",
      "Min = 6 Max = 83\n"
     ]
    }
   ],
   "source": [
    "numbers = np.random.randint(1, 100, 10)\n",
    "print(numbers)\n",
    "a, b = min_max(numbers)\n",
    "print('Min =', a, 'Max =', b)"
   ]
  },
  {
   "cell_type": "code",
   "execution_count": 29,
   "metadata": {},
   "outputs": [
    {
     "name": "stdout",
     "output_type": "stream",
     "text": [
      "Min = 6 Max = 83\n"
     ]
    }
   ],
   "source": [
    "ab = min_max(numbers)\n",
    "print('Min =', ab[0], 'Max =', ab[1])"
   ]
  },
  {
   "cell_type": "code",
   "execution_count": 35,
   "metadata": {},
   "outputs": [],
   "source": [
    "def less_than(a, b):\n",
    "    return a < b\n",
    "def greater_than(a, b):\n",
    "    return a > b\n",
    "def my_min_max(items, compare=less_than):\n",
    "    m = items[0]\n",
    "    for i in items:\n",
    "        if compare(i, m):\n",
    "            m = i\n",
    "    return m"
   ]
  },
  {
   "cell_type": "code",
   "execution_count": 36,
   "metadata": {},
   "outputs": [
    {
     "name": "stdout",
     "output_type": "stream",
     "text": [
      "8\n"
     ]
    }
   ],
   "source": [
    "print(my_min_max([4, 5, 8, 2], compare=greater_than))"
   ]
  },
  {
   "cell_type": "code",
   "execution_count": 37,
   "metadata": {},
   "outputs": [
    {
     "name": "stdout",
     "output_type": "stream",
     "text": [
      "[ 6 25 64 73 83 53 19 49 62 15]\n"
     ]
    }
   ],
   "source": [
    "print(numbers)"
   ]
  },
  {
   "cell_type": "code",
   "execution_count": 39,
   "metadata": {},
   "outputs": [
    {
     "name": "stdout",
     "output_type": "stream",
     "text": [
      "62\n",
      "19\n"
     ]
    }
   ],
   "source": [
    "def less_than_digit(a, b):\n",
    "    return a % 10 < b % 10\n",
    "def greater_than_digit(a, b):\n",
    "    return a % 10 > b % 10\n",
    "print(my_min_max(numbers, compare=less_than_digit))\n",
    "print(my_min_max(numbers, compare=greater_than_digit))"
   ]
  },
  {
   "cell_type": "code",
   "execution_count": 42,
   "metadata": {},
   "outputs": [
    {
     "name": "stdout",
     "output_type": "stream",
     "text": [
      "Mike Smith\n",
      "Laurent Amstrong\n",
      "Zack Swzenks\n",
      "Sara Henderson\n"
     ]
    }
   ],
   "source": [
    "names = ['John Murray', 'Mike Smith', 'Sara Henderson', 'Laurent Amstrong', 'Zack Swzenks']\n",
    "def less_than_length(a, b):\n",
    "    return len(a) < len(b)\n",
    "print(my_min_max(names, compare=less_than_length))\n",
    "def greater_than_length(a, b):\n",
    "    return len(a) > len(b)\n",
    "print(my_min_max(names, compare=greater_than_length))\n",
    "\n",
    "def count_vowels(s):\n",
    "    n_vowels = 0\n",
    "    vowels = 'aeiou'\n",
    "    for c in s:\n",
    "        n_vowels += 1 if c in vowels else 0\n",
    "    return n_vowels\n",
    "\n",
    "def less_than_vowels(a, b):\n",
    "    return count_vowels(a) < count_vowels(b)\n",
    "\n",
    "# Find name that has least \n",
    "print(my_min_max(names, compare=less_than_vowels))\n",
    "# Find name that has most vowels\n",
    "def greater_than_vowels(a, b):\n",
    "    return count_vowels(a) > count_vowels(b)\n",
    "print(my_min_max(names, compare=greater_than_vowels))"
   ]
  },
  {
   "cell_type": "code",
   "execution_count": 48,
   "metadata": {},
   "outputs": [],
   "source": [
    "def same(x):\n",
    "    return x\n",
    "def my_min(items, key=same):\n",
    "    m = items[0]\n",
    "    for i in items:\n",
    "        if key(i) < key(m):\n",
    "            m = i\n",
    "    return m"
   ]
  },
  {
   "cell_type": "code",
   "execution_count": 49,
   "metadata": {},
   "outputs": [
    {
     "name": "stdout",
     "output_type": "stream",
     "text": [
      "[ 6 25 64 73 83 53 19 49 62 15]\n",
      "6\n"
     ]
    }
   ],
   "source": [
    "print(numbers)\n",
    "print(my_min(numbers))"
   ]
  },
  {
   "cell_type": "code",
   "execution_count": 51,
   "metadata": {},
   "outputs": [
    {
     "name": "stdout",
     "output_type": "stream",
     "text": [
      "62\n",
      "['John Murray', 'Mike Smith', 'Sara Henderson', 'Laurent Amstrong', 'Zack Swzenks']\n",
      "Shortest name: Mike Smith\n"
     ]
    }
   ],
   "source": [
    "def digit(x):\n",
    "    return x % 10\n",
    "\n",
    "print(my_min(numbers, key=digit))\n",
    "print(names)\n",
    "print('Shortest name:', my_min(names, key=len))"
   ]
  },
  {
   "cell_type": "code",
   "execution_count": 53,
   "metadata": {},
   "outputs": [
    {
     "name": "stdout",
     "output_type": "stream",
     "text": [
      "max: 83\n",
      "Longest name: Laurent Amstrong\n"
     ]
    }
   ],
   "source": [
    "def negative(x):\n",
    "    return -x\n",
    "\n",
    "print('max:', my_min(numbers, key=negative))\n",
    "def negative_len(x):\n",
    "    return -len(x)\n",
    "\n",
    "print('Longest name:', my_min(names, key=negative_len))"
   ]
  },
  {
   "cell_type": "code",
   "execution_count": 55,
   "metadata": {},
   "outputs": [
    {
     "name": "stdout",
     "output_type": "stream",
     "text": [
      "[ 6 25 64 73 83 53 19 49 62 15]\n",
      "['John Murray', 'Mike Smith', 'Sara Henderson', 'Laurent Amstrong', 'Zack Swzenks']\n"
     ]
    }
   ],
   "source": [
    "print(numbers)\n",
    "print(names)"
   ]
  },
  {
   "cell_type": "code",
   "execution_count": 57,
   "metadata": {},
   "outputs": [
    {
     "name": "stdout",
     "output_type": "stream",
     "text": [
      "Min numbers: 6\n",
      "Max numbers: 83\n"
     ]
    }
   ],
   "source": [
    "print('Min numbers:', my_min_max(numbers, lambda a, b: a < b))\n",
    "print('Max numbers:', my_min_max(numbers, lambda a, b: a > b))"
   ]
  },
  {
   "cell_type": "code",
   "execution_count": 58,
   "metadata": {},
   "outputs": [
    {
     "name": "stdout",
     "output_type": "stream",
     "text": [
      "Number with min digit: 62\n",
      "Number with max digit: 19\n",
      "Longest name: Laurent Amstrong\n",
      "Shortest name: Mike Smith\n",
      "Name with least vowels: Zack Swzenks\n",
      "Name with most vowels: Sara Henderson\n",
      "Name with least consonants: Mike Smith\n",
      "Name with most consonants: Laurent Amstrong\n"
     ]
    }
   ],
   "source": [
    "# Find number that has min digit\n",
    "print('Number with min digit:', my_min_max(numbers, lambda a, b: a % 10 < b % 10))\n",
    "# Find number that has max digit\n",
    "print('Number with max digit:', my_min_max(numbers, lambda a, b: a % 10 > b % 10))\n",
    "# Find longest name\n",
    "print('Longest name:', my_min_max(names, lambda a, b: len(a) > len(b)))\n",
    "# Find shortest name\n",
    "print('Shortest name:', my_min_max(names, lambda a, b: len(a) < len(b)))\n",
    "# Find name that has least vowels\n",
    "print('Name with least vowels:', my_min_max(names, lambda a, b: count_vowels(a) < count_vowels(b)))\n",
    "# Find name that has most vowels\n",
    "print('Name with most vowels:', my_min_max(names, lambda a, b: count_vowels(a) > count_vowels(b)))\n",
    "# Find name that has least consonants\n",
    "print('Name with least consonants:', my_min_max(names, lambda a, b: len(a) - count_vowels(a) < len(b) - count_vowels(b)))\n",
    "# Find name that has most consonants\n",
    "print('Name with most consonants:', my_min_max(names, lambda a, b: len(a) - count_vowels(a) > len(b) - count_vowels(b)))"
   ]
  },
  {
   "cell_type": "code",
   "execution_count": 60,
   "metadata": {},
   "outputs": [
    {
     "name": "stdout",
     "output_type": "stream",
     "text": [
      "['John Murray', 'Laurent Amstrong', 'Mike Smith', 'Sara Henderson', 'Zack Swzenks']\n"
     ]
    }
   ],
   "source": [
    "# sort name by alphabet\n",
    "print(list(sorted(names)))"
   ]
  },
  {
   "cell_type": "code",
   "execution_count": 61,
   "metadata": {},
   "outputs": [
    {
     "name": "stdout",
     "output_type": "stream",
     "text": [
      "['Mike Smith', 'John Murray', 'Zack Swzenks', 'Sara Henderson', 'Laurent Amstrong']\n"
     ]
    }
   ],
   "source": [
    "# sort names by length\n",
    "print(list(sorted(names, key=len)))"
   ]
  },
  {
   "cell_type": "code",
   "execution_count": 76,
   "metadata": {},
   "outputs": [
    {
     "name": "stdout",
     "output_type": "stream",
     "text": [
      "['Zack Swzenks', 'John Murray', 'Mike Smith', 'Laurent Amstrong', 'Sara Henderson']\n",
      "['Mike Smith', 'John Murray', 'Sara Henderson', 'Zack Swzenks', 'Laurent Amstrong']\n"
     ]
    }
   ],
   "source": [
    "# sort names by number of vowels\n",
    "print(list(sorted(names, key=count_vowels)))\n",
    "# sort names by number of consonants\n",
    "print(list(sorted(names, key=lambda a: len(a) - count_vowels(a))))"
   ]
  },
  {
   "cell_type": "code",
   "execution_count": 65,
   "metadata": {},
   "outputs": [
    {
     "name": "stdout",
     "output_type": "stream",
     "text": [
      "[36 49 55 90  5 77 29 18 65 21 18 16 35 25 31 16 57 42 84 94]\n",
      "Sum of evens: 414\n",
      "Sum of evens: 414\n"
     ]
    }
   ],
   "source": [
    "numbers = np.random.randint(1, 100, 20)\n",
    "print(numbers)\n",
    "# Calculate sum of evens in numbers\n",
    "# Method 1: using boolean indexing\n",
    "print('Sum of evens:', sum(numbers[numbers % 2 == 0]))\n",
    "# Method 2: using list comprehension\n",
    "print('Sum of evens:', sum([n for n in numbers if n % 2 == 0]))"
   ]
  },
  {
   "cell_type": "code",
   "execution_count": 66,
   "metadata": {},
   "outputs": [
    {
     "name": "stdout",
     "output_type": "stream",
     "text": [
      "[36, 90, 18, 18, 16, 16, 42, 84, 94]\n",
      "414\n"
     ]
    }
   ],
   "source": [
    "evens = list(filter(lambda a: a%2==0, numbers))\n",
    "print(evens)\n",
    "print(sum(evens))"
   ]
  },
  {
   "cell_type": "code",
   "execution_count": 67,
   "metadata": {},
   "outputs": [
    {
     "name": "stdout",
     "output_type": "stream",
     "text": [
      "414\n"
     ]
    }
   ],
   "source": [
    "print(sum(filter(lambda a: a%2==0, numbers)))"
   ]
  },
  {
   "cell_type": "code",
   "execution_count": 70,
   "metadata": {},
   "outputs": [
    {
     "name": "stdout",
     "output_type": "stream",
     "text": [
      "Even numbers:\n",
      "36 90 18 18 16 16 42 84 94 "
     ]
    }
   ],
   "source": [
    "print('Even numbers:')\n",
    "for i in [n for n in numbers if n%2==0]:\n",
    "    print(i, end=' ')"
   ]
  },
  {
   "cell_type": "code",
   "execution_count": 69,
   "metadata": {},
   "outputs": [
    {
     "name": "stdout",
     "output_type": "stream",
     "text": [
      "36 90 18 18 16 16 42 84 94 "
     ]
    }
   ],
   "source": [
    "for n in filter(lambda a: a%2==0, numbers):\n",
    "    print(n, end=' ')"
   ]
  },
  {
   "cell_type": "code",
   "execution_count": 71,
   "metadata": {},
   "outputs": [
    {
     "name": "stdout",
     "output_type": "stream",
     "text": [
      "[-93 -31  21   6 -39 -57  85 -74 -89   4 -71  71 -20  64  82  69  85  50\n",
      "  78 -55]\n"
     ]
    }
   ],
   "source": [
    "numbers = np.random.randint(-99, 100, 20)\n",
    "print(numbers)"
   ]
  },
  {
   "cell_type": "code",
   "execution_count": 72,
   "metadata": {},
   "outputs": [
    {
     "name": "stdout",
     "output_type": "stream",
     "text": [
      "Number of negatives: 9\n"
     ]
    }
   ],
   "source": [
    "# Count how many negative numbers\n",
    "count = 0\n",
    "for n in filter(lambda a: a<0, numbers):\n",
    "    count += 1\n",
    "print('Number of negatives:', count)"
   ]
  },
  {
   "cell_type": "code",
   "execution_count": 78,
   "metadata": {},
   "outputs": [
    {
     "name": "stdout",
     "output_type": "stream",
     "text": [
      "[93, 31, 21, 6, 39, 57, 85, 74, 89, 4, 71, 71, 20, 64, 82, 69, 85, 50, 78, 55]\n"
     ]
    }
   ],
   "source": [
    "# convert negative numbers to positive\n",
    "positives = list(map(lambda a: a if a>=0 else -a, numbers))\n",
    "print(positives)"
   ]
  }
 ],
 "metadata": {
  "kernelspec": {
   "display_name": "Python 3.9.12 64-bit",
   "language": "python",
   "name": "python3"
  },
  "language_info": {
   "codemirror_mode": {
    "name": "ipython",
    "version": 3
   },
   "file_extension": ".py",
   "mimetype": "text/x-python",
   "name": "python",
   "nbconvert_exporter": "python",
   "pygments_lexer": "ipython3",
   "version": "3.9.12"
  },
  "orig_nbformat": 4,
  "vscode": {
   "interpreter": {
    "hash": "aee8b7b246df8f9039afb4144a1f6fd8d2ca17a180786b69acc140d282b71a49"
   }
  }
 },
 "nbformat": 4,
 "nbformat_minor": 2
}
