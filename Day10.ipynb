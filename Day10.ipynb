{
 "cells": [
  {
   "cell_type": "code",
   "execution_count": 6,
   "metadata": {},
   "outputs": [
    {
     "name": "stdout",
     "output_type": "stream",
     "text": [
      "The Triboro Bridge and Tunnel Authority\n",
      "The Metropolitan Transit Authority\n",
      "The Port Authority of New York and New Jersey\n"
     ]
    }
   ],
   "source": [
    "f = open('Datasets/agencies.txt', 'r')\n",
    "lines = f.readlines()\n",
    "for li in lines:\n",
    "    if 'Authority' in li:\n",
    "        print(li[:-1])\n",
    "\n",
    "f.close()"
   ]
  },
  {
   "cell_type": "code",
   "execution_count": 19,
   "metadata": {},
   "outputs": [
    {
     "name": "stdout",
     "output_type": "stream",
     "text": [
      "Time: 0.0, height: 180\n",
      "Time: 0.5, height: 185\n",
      "Time: 0.7, height: 192\n"
     ]
    }
   ],
   "source": [
    "# Read falling file manually\n",
    "f = open('Datasets/falling.txt', 'r')\n",
    "lines = f.readlines()\n",
    "for i, li in enumerate(lines):\n",
    "    if i < 5:\n",
    "        continue\n",
    "    row = li.split()\n",
    "    print('Time: {0}, height: {1}'.format(row[1], row[2]))\n",
    "f.close()"
   ]
  },
  {
   "cell_type": "code",
   "execution_count": 4,
   "metadata": {},
   "outputs": [
    {
     "name": "stdout",
     "output_type": "stream",
     "text": [
      "Time: 0.0, height: 180\n",
      "Time: 0.5, height: 185\n",
      "Time: 0.7, height: 192\n"
     ]
    }
   ],
   "source": [
    "# Read text file using numpy\n",
    "import numpy as np\n",
    "rows = np.loadtxt('Datasets/falling_tab.txt', delimiter='\\t', skiprows=5, dtype=str)\n",
    "for r in rows:\n",
    "    r = r.split()\n",
    "    print('Time: {0}, height: {1}'.format(r[1], r[2]))"
   ]
  },
  {
   "cell_type": "code",
   "execution_count": 5,
   "metadata": {},
   "outputs": [
    {
     "name": "stdout",
     "output_type": "stream",
     "text": [
      "Le Minh Huong 6.5\n",
      "Nguyen The Dat 6.5\n",
      "Pham Minh Thang 6.5\n",
      "Do Duy Tung 6.5\n"
     ]
    }
   ],
   "source": [
    "# Read CSV file using numpy\n",
    "names, grades = np.loadtxt('Datasets/gradebook.csv', delimiter=',', skiprows=1, \n",
    "                              unpack=True, dtype=str, usecols=(3, 4))\n",
    "for i in range(len(names)):\n",
    "    if float(grades[i]) >= 6.5:\n",
    "        print('{0} {1}'.format(names[i], grades[i]))"
   ]
  },
  {
   "cell_type": "code",
   "execution_count": 8,
   "metadata": {},
   "outputs": [
    {
     "name": "stdout",
     "output_type": "stream",
     "text": [
      "Le Minh Huong 6.5\n",
      "Nguyen The Dat 6.5\n",
      "Pham Minh Thang 6.5\n",
      "Do Duy Tung 6.5\n"
     ]
    }
   ],
   "source": [
    "std_data = np.loadtxt('Datasets/gradebook.csv', delimiter=',', skiprows=1, dtype=str)\n",
    "\n",
    "for student in std_data:\n",
    "    if float(student[4]) >= 6.5:\n",
    "        print('{0} {1}'.format(student[3], student[4]))"
   ]
  },
  {
   "cell_type": "code",
   "execution_count": 2,
   "metadata": {},
   "outputs": [
    {
     "name": "stdout",
     "output_type": "stream",
     "text": [
      "[['huonglmgbh17538', 'huonglmgbh17538@fpt.edu.vn', 'GBH17538', 'Le Minh Huong', '6.5'], ['nambpgch16025', 'nambpgch16025@fpt.edu.vn', 'GCH16025', 'Bui Phuong Nam', '0'], ['datntgch16336', 'datntgch16336@fpt.edu.vn', 'GCH16336', 'Nguyen The Dat', '6.5'], ['thangpmgch16388', 'thangpmgch16388@fpt.edu.vn', 'GCH16388', 'Pham Minh Thang', '6.5'], ['tungddgch16573', 'tungddgch16573@fpt.edu.vn', 'GCH16573', 'Do Duy Tung', '6.5']]\n",
      "GBH17538 Le Minh Huong 6.5\n",
      "GCH16336 Nguyen The Dat 6.5\n",
      "GCH16388 Pham Minh Thang 6.5\n",
      "GCH16573 Do Duy Tung 6.5\n"
     ]
    }
   ],
   "source": [
    "# read file using csv\n",
    "import csv\n",
    "grades = []\n",
    "f = open('Datasets/gradebook.csv', 'r')\n",
    "reader = csv.reader(f)\n",
    "next(reader) # skip header line\n",
    "for row in reader:\n",
    "    grades.append(row)\n",
    "\n",
    "print(grades)\n",
    "for std in grades:\n",
    "    if float(std[4]) >= 6.5:\n",
    "        print(std[2], std[3], std[4])"
   ]
  },
  {
   "cell_type": "code",
   "execution_count": 8,
   "metadata": {},
   "outputs": [
    {
     "name": "stdout",
     "output_type": "stream",
     "text": [
      "Write file success!\n"
     ]
    }
   ],
   "source": [
    "# Read authors.txt\n",
    "f = open('Datasets/authors.txt', 'r')\n",
    "lines = f.readlines()\n",
    "lines = lines[3:]\n",
    "# open to write\n",
    "fw = open('Datasets/authors_new.csv', 'w')\n",
    "fw.write('Name,Email\\n')\n",
    "\n",
    "for li in lines:\n",
    "    name = li.split('<')[0][:-1]\n",
    "    email = li.split('<')[1][:-2]\n",
    "    #print('|{0}|{1}|'.format(name, email))\n",
    "    fw.write('{0},{1}\\n'.format(name, email))\n",
    "\n",
    "f.close()\n",
    "fw.close()\n",
    "print('Write file success!')"
   ]
  },
  {
   "cell_type": "code",
   "execution_count": 18,
   "metadata": {},
   "outputs": [],
   "source": [
    "import numpy as np\n",
    "# Open authors_new.csv (using numpy or csv reader)\n",
    "# Print authors that use gmail\n",
    "authors = np.loadtxt('Datasets/authors_new.csv', delimiter=',', dtype=str,\n",
    "                     skiprows=1)\n",
    "gmail_authors = []\n",
    "for author in authors:\n",
    "    if 'gmail' in author[1]:\n",
    "        gmail_authors.append([author[0], author[1]])\n",
    "#print(gmail_authors)\n",
    "# Save gmail authors into authors_gmail.csv using numpy savetxt\n",
    "# np.savetxt('Datasets/authors_gmail.csv', gmail_authors, fmt='%s', delimiter=',', \n",
    "#            header='Name,Email', comments='')\n",
    "# print('Save file successful!')\n",
    "\n",
    "# Save using csv writer\n",
    "f = open('Datasets/authors_gmail.csv', 'w')\n",
    "writer = csv.writer(f)\n",
    "writer.writerow(['Name', 'Email'])\n",
    "writer.writerows(gmail_authors)\n",
    "\n",
    "f.close()"
   ]
  },
  {
   "cell_type": "code",
   "execution_count": 24,
   "metadata": {},
   "outputs": [
    {
     "name": "stdout",
     "output_type": "stream",
     "text": [
      "['id', 'address', 'categories', 'city', 'country', 'keys', 'latitude', 'longitude', 'menuPageURL', 'menus.amountMax', 'menus.amountMin', 'menus.currency', 'menus.dateSeen', 'menus.description', 'menus.name', 'name', 'postalCode', 'priceRangeCurrency', 'priceRangeMin', 'priceRangeMax', 'province']\n",
      "Pizza file is cleaned!\n"
     ]
    }
   ],
   "source": [
    "f = open('Datasets/pizza_data.csv', 'r')\n",
    "reader = csv.reader(f)\n",
    "header = next(reader)\n",
    "print(header)\n",
    "fw = open('Datasets/pizza_cleaned.csv', 'w')\n",
    "writer = csv.writer(fw)\n",
    "writer.writerow([header[1], header[2], header[3], header[4], header[6], header[7],\n",
    "            header[9], header[10]]) # add more column\n",
    "data = []\n",
    "\n",
    "for row in reader:\n",
    "    # skip rows that has empty data in some columns\n",
    "    if row[9] == '' or row[10] == '' or row[18] == '' or row[19] == '':\n",
    "        continue\n",
    "    category = row[2].split(',')[0]\n",
    "    # skip some columns (such as 0, 5, ...)\n",
    "    new_row = [row[1], category, row[3], row[4], row[6], row[7], row[9], row[10]] # add more column\n",
    "    data.append(new_row)\n",
    "\n",
    "#print(data[:10])\n",
    "writer.writerows(data)\n",
    "\n",
    "f.close()\n",
    "fw.close()\n",
    "print('Pizza file is cleaned!')"
   ]
  }
 ],
 "metadata": {
  "kernelspec": {
   "display_name": "Python 3.9.12 64-bit",
   "language": "python",
   "name": "python3"
  },
  "language_info": {
   "codemirror_mode": {
    "name": "ipython",
    "version": 3
   },
   "file_extension": ".py",
   "mimetype": "text/x-python",
   "name": "python",
   "nbconvert_exporter": "python",
   "pygments_lexer": "ipython3",
   "version": "3.9.12"
  },
  "orig_nbformat": 4,
  "vscode": {
   "interpreter": {
    "hash": "aee8b7b246df8f9039afb4144a1f6fd8d2ca17a180786b69acc140d282b71a49"
   }
  }
 },
 "nbformat": 4,
 "nbformat_minor": 2
}
