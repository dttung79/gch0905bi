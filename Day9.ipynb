{
 "cells": [
  {
   "cell_type": "code",
   "execution_count": 5,
   "metadata": {},
   "outputs": [],
   "source": [
    "a = [1, 2, 3, 4, 5, 6, 7, 8, 9, 10]\n",
    "b = (1, 2, 3, 4, 5, 6, 7, 8, 9, 10)\n",
    "\n",
    "x = 0\n",
    "y = 0"
   ]
  },
  {
   "cell_type": "code",
   "execution_count": 6,
   "metadata": {},
   "outputs": [
    {
     "name": "stdout",
     "output_type": "stream",
     "text": [
      "1 2 3 4 5 6 7 8 9 10 \n",
      " 55\n"
     ]
    }
   ],
   "source": [
    "for n in a:\n",
    "    print(n, end=' ')\n",
    "for n in a:\n",
    "    x += n\n",
    "print('\\n', x)"
   ]
  },
  {
   "cell_type": "code",
   "execution_count": 7,
   "metadata": {},
   "outputs": [
    {
     "name": "stdout",
     "output_type": "stream",
     "text": [
      "1 2 3 4 5 6 7 8 9 10 \n",
      " 55\n"
     ]
    }
   ],
   "source": [
    "for n in b:\n",
    "    print(n, end=' ')\n",
    "for n in b:\n",
    "    y += n\n",
    "print('\\n', y)"
   ]
  },
  {
   "cell_type": "code",
   "execution_count": 10,
   "metadata": {},
   "outputs": [
    {
     "name": "stdout",
     "output_type": "stream",
     "text": [
      "1 4 9 16 25 36 49 64 81 100 385\n"
     ]
    }
   ],
   "source": [
    "a2 = [n**2 for n in a]\n",
    "for n in a2:\n",
    "    print(n, end=' ')\n",
    "\n",
    "print(sum(a2))"
   ]
  },
  {
   "cell_type": "code",
   "execution_count": 12,
   "metadata": {},
   "outputs": [
    {
     "name": "stdout",
     "output_type": "stream",
     "text": [
      "1 4 9 16 25 36 49 64 81 100 385\n"
     ]
    }
   ],
   "source": [
    "b2 = (n**2 for n in b)\n",
    "for n in b2:\n",
    "    print(n, end=' ')\n",
    "\n",
    "b2 = (n**2 for n in b)\n",
    "print(sum(b2))"
   ]
  },
  {
   "cell_type": "code",
   "execution_count": 15,
   "metadata": {},
   "outputs": [],
   "source": [
    "def sqr_gen(n):\n",
    "    for i in range(1, n+1):\n",
    "        yield i**2"
   ]
  },
  {
   "cell_type": "code",
   "execution_count": 17,
   "metadata": {},
   "outputs": [
    {
     "name": "stdout",
     "output_type": "stream",
     "text": [
      "1 4 9 16 25 36 49 64 81 100 385\n"
     ]
    }
   ],
   "source": [
    "n = 10\n",
    "for i in sqr_gen(n):\n",
    "    print(i, end=' ')\n",
    "\n",
    "print(sum(sqr_gen(n)))"
   ]
  },
  {
   "cell_type": "code",
   "execution_count": 19,
   "metadata": {},
   "outputs": [],
   "source": [
    "def fib_rec(n):\n",
    "    if n <= 1:\n",
    "        return n\n",
    "    else:\n",
    "        return fib_rec(n-1) + fib_rec(n-2)"
   ]
  },
  {
   "cell_type": "code",
   "execution_count": null,
   "metadata": {},
   "outputs": [],
   "source": [
    "n = int(input('Enter a number: '))\n",
    "print('F[{0}] = {1}'.format(n, fib_rec(n)))"
   ]
  },
  {
   "cell_type": "code",
   "execution_count": 24,
   "metadata": {},
   "outputs": [],
   "source": [
    "def fib_gen():\n",
    "    a, b = 1, 1\n",
    "    while True:\n",
    "        yield a\n",
    "        a, b = b, a+b"
   ]
  },
  {
   "cell_type": "code",
   "execution_count": 33,
   "metadata": {},
   "outputs": [],
   "source": [
    "def fib(n):\n",
    "    i = 1\n",
    "    for f in fib_gen():\n",
    "        i += 1\n",
    "        if i > n:\n",
    "            return f"
   ]
  },
  {
   "cell_type": "code",
   "execution_count": 34,
   "metadata": {},
   "outputs": [
    {
     "name": "stdout",
     "output_type": "stream",
     "text": [
      "1134903170\n"
     ]
    }
   ],
   "source": [
    "print(fib(n))"
   ]
  },
  {
   "cell_type": "code",
   "execution_count": 28,
   "metadata": {},
   "outputs": [
    {
     "name": "stdout",
     "output_type": "stream",
     "text": [
      "[['john', '10:04', 7], ['mary', '10:05', 3], ['paul', '12:06', 8], ['mike', '15:07', 11], ['tony', '11:08', 12], ['adam', '1:09', 2], ['anna', '3:10', 9]]\n"
     ]
    }
   ],
   "source": [
    "pizza_solds = [['john', '10:04', 7], \n",
    "               ['mary', '10:05', 3], \n",
    "               ['paul', '12:06', 8], \n",
    "               ['mike', '15:07', 11], \n",
    "               ['tony', '11:08', 12], \n",
    "               ['adam', '1:09', 2], \n",
    "               ['anna', '3:10', 9]]\n",
    "print(pizza_solds)"
   ]
  },
  {
   "cell_type": "code",
   "execution_count": 29,
   "metadata": {},
   "outputs": [
    {
     "name": "stdout",
     "output_type": "stream",
     "text": [
      "286.0\n"
     ]
    }
   ],
   "source": [
    "price = 5.5\n",
    "n_pizzas = (n[2] for n in pizza_solds)\n",
    "solds = (n * price for n in n_pizzas)\n",
    "total_sold = sum(solds)\n",
    "print(total_sold)"
   ]
  },
  {
   "cell_type": "code",
   "execution_count": 36,
   "metadata": {},
   "outputs": [],
   "source": [
    "def odd_gen():\n",
    "    a = 1\n",
    "    while True:\n",
    "        yield a\n",
    "        a += 2\n",
    "\n",
    "def odd(n):\n",
    "    i = 0\n",
    "    for k in odd_gen():\n",
    "        i += 1\n",
    "        if i > n:\n",
    "            return k"
   ]
  },
  {
   "cell_type": "code",
   "execution_count": 37,
   "metadata": {},
   "outputs": [
    {
     "name": "stdout",
     "output_type": "stream",
     "text": [
      "11\n"
     ]
    }
   ],
   "source": [
    "print(odd(5))"
   ]
  },
  {
   "cell_type": "code",
   "execution_count": 38,
   "metadata": {},
   "outputs": [],
   "source": [
    "def pyramid_gen():\n",
    "    n = 1\n",
    "    p = 1\n",
    "    while True:\n",
    "        yield p\n",
    "        n += 1\n",
    "        p += n**2\n",
    "\n",
    "def pyramid(n):\n",
    "    i = 1\n",
    "    for k in pyramid_gen():\n",
    "        i += 1\n",
    "        if i > n:\n",
    "            return k"
   ]
  },
  {
   "cell_type": "code",
   "execution_count": 39,
   "metadata": {},
   "outputs": [
    {
     "name": "stdout",
     "output_type": "stream",
     "text": [
      "55\n"
     ]
    }
   ],
   "source": [
    "print(pyramid(5))"
   ]
  }
 ],
 "metadata": {
  "kernelspec": {
   "display_name": "Python 3.9.12 64-bit",
   "language": "python",
   "name": "python3"
  },
  "language_info": {
   "codemirror_mode": {
    "name": "ipython",
    "version": 3
   },
   "file_extension": ".py",
   "mimetype": "text/x-python",
   "name": "python",
   "nbconvert_exporter": "python",
   "pygments_lexer": "ipython3",
   "version": "3.9.12"
  },
  "orig_nbformat": 4,
  "vscode": {
   "interpreter": {
    "hash": "aee8b7b246df8f9039afb4144a1f6fd8d2ca17a180786b69acc140d282b71a49"
   }
  }
 },
 "nbformat": 4,
 "nbformat_minor": 2
}
