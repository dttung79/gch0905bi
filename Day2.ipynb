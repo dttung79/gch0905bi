{
 "cells": [
  {
   "cell_type": "code",
   "execution_count": 1,
   "metadata": {},
   "outputs": [
    {
     "name": "stdout",
     "output_type": "stream",
     "text": [
      "[1, 2, 3, 5, 8, 19, 34, 55, 89]\n",
      "<class 'list'>\n"
     ]
    }
   ],
   "source": [
    "a = [1, 2, 3, 5, 8, 19, 34, 55, 89]\n",
    "print(a)\n",
    "print(type(a))"
   ]
  },
  {
   "cell_type": "code",
   "execution_count": 6,
   "metadata": {},
   "outputs": [
    {
     "name": "stdout",
     "output_type": "stream",
     "text": [
      "1 89\n",
      "89 1\n"
     ]
    }
   ],
   "source": [
    "# positive indexing\n",
    "print(a[0], a[8])\n",
    "# negative indexing\n",
    "print(a[-1], a[-9])"
   ]
  },
  {
   "cell_type": "code",
   "execution_count": 9,
   "metadata": {},
   "outputs": [
    {
     "name": "stdout",
     "output_type": "stream",
     "text": [
      "[1, 2, 3, 'a', 'b', 'c']\n"
     ]
    }
   ],
   "source": [
    "# list operator\n",
    "a = [1, 2, 3]\n",
    "b = ['a', 'b', 'c']\n",
    "c = a + b\n",
    "print(c)"
   ]
  },
  {
   "cell_type": "code",
   "execution_count": 10,
   "metadata": {},
   "outputs": [
    {
     "name": "stdout",
     "output_type": "stream",
     "text": [
      "[1, 2, 3, 1, 2, 3]\n"
     ]
    }
   ],
   "source": [
    "a = [1, 2, 3]\n",
    "b = a * 2\n",
    "print(b)"
   ]
  },
  {
   "cell_type": "code",
   "execution_count": 16,
   "metadata": {},
   "outputs": [
    {
     "name": "stdout",
     "output_type": "stream",
     "text": [
      "[1, 2, 3, 4]\n",
      "[1, 2, 3]\n",
      "[1, 2, 3, 4]\n"
     ]
    }
   ],
   "source": [
    "a = [1, 2, 3]\n",
    "b = a + [4]\n",
    "print(b)\n",
    "print(a)\n",
    "a.append(4)\n",
    "print(a)"
   ]
  },
  {
   "cell_type": "code",
   "execution_count": 20,
   "metadata": {},
   "outputs": [
    {
     "name": "stdout",
     "output_type": "stream",
     "text": [
      "[2, 4, 6, 8, 10]\n",
      "[2, 4, 6]\n",
      "[2, 4, 6]\n"
     ]
    }
   ],
   "source": [
    "# slicing: [start:end:step]\n",
    "# 0 default for start\n",
    "# n default for end\n",
    "# 1 default for step\n",
    "a = [2, 4, 6, 8, 10]\n",
    "b = a[0:3:1]\n",
    "print(a, b, sep='\\n')\n",
    "c = a[0:3]\n",
    "print(c)"
   ]
  },
  {
   "cell_type": "code",
   "execution_count": 21,
   "metadata": {},
   "outputs": [
    {
     "name": "stdout",
     "output_type": "stream",
     "text": [
      "[6, 8, 10]\n"
     ]
    }
   ],
   "source": [
    "b = a[2:]\n",
    "print(b)"
   ]
  },
  {
   "cell_type": "code",
   "execution_count": 22,
   "metadata": {},
   "outputs": [
    {
     "name": "stdout",
     "output_type": "stream",
     "text": [
      "[1, 2, 3, 4, 5, 6, 7, 8, 9, 10, 11, 12, 13, 14, 15, 16, 17, 18, 19, 20]\n"
     ]
    }
   ],
   "source": [
    "a = list(range(1, 21))\n",
    "print(a)"
   ]
  },
  {
   "cell_type": "code",
   "execution_count": 26,
   "metadata": {},
   "outputs": [
    {
     "name": "stdout",
     "output_type": "stream",
     "text": [
      "[1, 3, 5, 7, 9, 11, 13, 15, 17, 19]\n",
      "[1, 3, 5, 7, 9, 11, 13, 15, 17, 19]\n",
      "[2, 4, 6, 8, 10, 12, 14, 16, 18, 20]\n"
     ]
    }
   ],
   "source": [
    "# print odd numbers from a\n",
    "odds = a[0:20:2]\n",
    "print(odds)\n",
    "odds = a[::2]\n",
    "print(odds)\n",
    "# print even numbers from a\n",
    "evens =a[1::2]\n",
    "print(evens)"
   ]
  },
  {
   "cell_type": "code",
   "execution_count": 27,
   "metadata": {},
   "outputs": [
    {
     "name": "stdout",
     "output_type": "stream",
     "text": [
      "[1, 2, 3, 4, 5, 6, 7, 8, 9, 10]\n",
      "[1, 2, 3, 4, 5, 6, 7, 8, 9, 10]\n",
      "[1, 2, 3, 4, 5, 6, 7, 8, 9, 10]\n"
     ]
    }
   ],
   "source": [
    "a = [1, 2, 3, 4, 5, 6, 7, 8, 9, 10]\n",
    "b = a\n",
    "c = a[:]\n",
    "print(a, b, c, sep='\\n')"
   ]
  },
  {
   "cell_type": "code",
   "execution_count": 28,
   "metadata": {},
   "outputs": [
    {
     "name": "stdout",
     "output_type": "stream",
     "text": [
      "['Hello', 2, 3, 4, 5, 6, 7, 8, 9, 10]\n",
      "['Hello', 2, 3, 4, 5, 6, 7, 8, 9, 10]\n",
      "[1, 2, 3, 4, 5, 6, 7, 8, 9, 10]\n"
     ]
    }
   ],
   "source": [
    "a[0] = 'Hello'\n",
    "print(a, b, c, sep='\\n')"
   ]
  },
  {
   "cell_type": "code",
   "execution_count": 29,
   "metadata": {},
   "outputs": [
    {
     "name": "stdout",
     "output_type": "stream",
     "text": [
      "[10, 9, 8, 7, 6, 5, 4, 3, 2, 'Hello']\n",
      "[10, 8, 6, 4, 2]\n"
     ]
    }
   ],
   "source": [
    "# reversed slicing\n",
    "b = a[::-1]\n",
    "c = a[::-2]\n",
    "print(b, c, sep='\\n')"
   ]
  },
  {
   "cell_type": "code",
   "execution_count": 34,
   "metadata": {},
   "outputs": [
    {
     "name": "stdout",
     "output_type": "stream",
     "text": [
      "[3, 5, 7, 9]\n",
      "[9, 7, 5, 3]\n"
     ]
    }
   ],
   "source": [
    "print(a[2::2])\n",
    "print(a[-2:0:-2])"
   ]
  },
  {
   "cell_type": "code",
   "execution_count": 35,
   "metadata": {},
   "outputs": [
    {
     "name": "stdout",
     "output_type": "stream",
     "text": [
      "[1, 2, 3, 4, 5, 6, 7, 8, 9, 10]\n",
      "(1, 2, 3, 4, 5, 6, 7, 8, 9, 10)\n"
     ]
    }
   ],
   "source": [
    "a = [1, 2, 3, 4, 5, 6, 7, 8, 9, 10]\n",
    "b = (1, 2, 3, 4, 5, 6, 7, 8, 9, 10)\n",
    "print(a, b, sep='\\n')"
   ]
  },
  {
   "cell_type": "code",
   "execution_count": 36,
   "metadata": {},
   "outputs": [
    {
     "ename": "TypeError",
     "evalue": "'tuple' object does not support item assignment",
     "output_type": "error",
     "traceback": [
      "\u001b[0;31m---------------------------------------------------------------------------\u001b[0m",
      "\u001b[0;31mTypeError\u001b[0m                                 Traceback (most recent call last)",
      "\u001b[1;32m/Volumes/GoogleDrive/My Drive/FPTU/Program - F2G new/Unit 14 - Business Intelligence/GCH0905/Python/gch0905bi/Day2.ipynb Cell 15'\u001b[0m in \u001b[0;36m<cell line: 2>\u001b[0;34m()\u001b[0m\n\u001b[1;32m      <a href='vscode-notebook-cell:/Volumes/GoogleDrive/My%20Drive/FPTU/Program%20-%20F2G%20new/Unit%2014%20-%20Business%20Intelligence/GCH0905/Python/gch0905bi/Day2.ipynb#ch0000015?line=0'>1</a>\u001b[0m a[\u001b[39m0\u001b[39m] \u001b[39m=\u001b[39m \u001b[39m'\u001b[39m\u001b[39mHello\u001b[39m\u001b[39m'\u001b[39m\n\u001b[0;32m----> <a href='vscode-notebook-cell:/Volumes/GoogleDrive/My%20Drive/FPTU/Program%20-%20F2G%20new/Unit%2014%20-%20Business%20Intelligence/GCH0905/Python/gch0905bi/Day2.ipynb#ch0000015?line=1'>2</a>\u001b[0m b[\u001b[39m0\u001b[39m] \u001b[39m=\u001b[39m \u001b[39m'\u001b[39m\u001b[39mHello\u001b[39m\u001b[39m'\u001b[39m\n",
      "\u001b[0;31mTypeError\u001b[0m: 'tuple' object does not support item assignment"
     ]
    }
   ],
   "source": [
    "a[0] = 'Hello'\n",
    "b[0] = 'Hello'"
   ]
  },
  {
   "cell_type": "code",
   "execution_count": 37,
   "metadata": {},
   "outputs": [
    {
     "name": "stdout",
     "output_type": "stream",
     "text": [
      "(2, 4, 6, 8, 10)\n"
     ]
    }
   ],
   "source": [
    "print(b[1::2])"
   ]
  },
  {
   "cell_type": "code",
   "execution_count": 39,
   "metadata": {},
   "outputs": [
    {
     "name": "stdout",
     "output_type": "stream",
     "text": [
      "dlroW olleH\n"
     ]
    },
    {
     "ename": "TypeError",
     "evalue": "'str' object does not support item assignment",
     "output_type": "error",
     "traceback": [
      "\u001b[0;31m---------------------------------------------------------------------------\u001b[0m",
      "\u001b[0;31mTypeError\u001b[0m                                 Traceback (most recent call last)",
      "\u001b[1;32m/Volumes/GoogleDrive/My Drive/FPTU/Program - F2G new/Unit 14 - Business Intelligence/GCH0905/Python/gch0905bi/Day2.ipynb Cell 17'\u001b[0m in \u001b[0;36m<cell line: 3>\u001b[0;34m()\u001b[0m\n\u001b[1;32m      <a href='vscode-notebook-cell:/Volumes/GoogleDrive/My%20Drive/FPTU/Program%20-%20F2G%20new/Unit%2014%20-%20Business%20Intelligence/GCH0905/Python/gch0905bi/Day2.ipynb#ch0000017?line=0'>1</a>\u001b[0m s \u001b[39m=\u001b[39m \u001b[39m'\u001b[39m\u001b[39mHello World\u001b[39m\u001b[39m'\u001b[39m\n\u001b[1;32m      <a href='vscode-notebook-cell:/Volumes/GoogleDrive/My%20Drive/FPTU/Program%20-%20F2G%20new/Unit%2014%20-%20Business%20Intelligence/GCH0905/Python/gch0905bi/Day2.ipynb#ch0000017?line=1'>2</a>\u001b[0m \u001b[39mprint\u001b[39m(s[::\u001b[39m-\u001b[39m\u001b[39m1\u001b[39m])\n\u001b[0;32m----> <a href='vscode-notebook-cell:/Volumes/GoogleDrive/My%20Drive/FPTU/Program%20-%20F2G%20new/Unit%2014%20-%20Business%20Intelligence/GCH0905/Python/gch0905bi/Day2.ipynb#ch0000017?line=2'>3</a>\u001b[0m s[\u001b[39m0\u001b[39m] \u001b[39m=\u001b[39m \u001b[39m'\u001b[39m\u001b[39mh\u001b[39m\u001b[39m'\u001b[39m\n",
      "\u001b[0;31mTypeError\u001b[0m: 'str' object does not support item assignment"
     ]
    }
   ],
   "source": [
    "s = 'Hello World'\n",
    "print(s[::-1])\n",
    "s[0] = 'h' # error, cannot change immutable object"
   ]
  },
  {
   "cell_type": "code",
   "execution_count": 43,
   "metadata": {},
   "outputs": [
    {
     "name": "stdout",
     "output_type": "stream",
     "text": [
      "hello world\n",
      "Hello World\n",
      "HELLO WORLD\n"
     ]
    }
   ],
   "source": [
    "print(s.lower())\n",
    "print(s)\n",
    "s = s.upper()\n",
    "print(s)"
   ]
  },
  {
   "cell_type": "code",
   "execution_count": 46,
   "metadata": {},
   "outputs": [
    {
     "name": "stdout",
     "output_type": "stream",
     "text": [
      "[13, 34, 41, 4, 25, 15, 40, 91, 47, 39, 20, 7, 48, 60, 72, 36, 32, 27, 87, 89]\n",
      "[13, 34, 41, 4, 25, 15, 40, 91, 47, 39]\n",
      "[20, 7, 48, 60, 72, 36, 32, 27, 87, 89]\n"
     ]
    }
   ],
   "source": [
    "import random as rd\n",
    "# create a list of 20 random numbers in [1, 99]\n",
    "a = list(rd.sample(range(1, 100), 20))\n",
    "print(a)\n",
    "\n",
    "# slice first half, second hafl of a\n",
    "m = len(a) // 2\n",
    "first_half = a[:m]\n",
    "second_half = a[m:]\n",
    "print(first_half, second_half, sep='\\n')"
   ]
  },
  {
   "cell_type": "code",
   "execution_count": 49,
   "metadata": {},
   "outputs": [
    {
     "name": "stdout",
     "output_type": "stream",
     "text": [
      "[4, 25, 15, 40, 91, 47, 39, 20, 7, 48, 60, 72, 36, 32]\n",
      "[13, 34, 41, 27, 87, 89]\n"
     ]
    }
   ],
   "source": [
    "n = int(input('Enter n: '))\n",
    "if 0 < n < m: #n > 0 and n < m:\n",
    "    middle = a[n:-n]\n",
    "    print(middle)\n",
    "    begin_end = a[:n] + a[-n:]\n",
    "    print(begin_end)"
   ]
  },
  {
   "cell_type": "code",
   "execution_count": 53,
   "metadata": {},
   "outputs": [
    {
     "name": "stdout",
     "output_type": "stream",
     "text": [
      "827\n",
      "[4, 7, 13, 15, 20, 25, 27, 32, 34, 36, 39, 40, 41, 47, 48, 60, 72, 87, 89, 91]\n",
      "[91, 89, 87, 72, 60, 48, 47, 41, 40, 39, 36, 34, 32, 27, 25, 20, 15, 13, 7, 4]\n",
      "4 91\n"
     ]
    }
   ],
   "source": [
    "s = sum(a)\n",
    "print(s)\n",
    "sorted_a = sorted(a)\n",
    "print(sorted_a)\n",
    "sorted_a = sorted(a, reverse=True)\n",
    "print(sorted_a)\n",
    "min_a = min(a)\n",
    "max_a = max(a)\n",
    "print(min_a, max_a)"
   ]
  }
 ],
 "metadata": {
  "kernelspec": {
   "display_name": "Python 3.9.12 64-bit",
   "language": "python",
   "name": "python3"
  },
  "language_info": {
   "codemirror_mode": {
    "name": "ipython",
    "version": 3
   },
   "file_extension": ".py",
   "mimetype": "text/x-python",
   "name": "python",
   "nbconvert_exporter": "python",
   "pygments_lexer": "ipython3",
   "version": "3.9.12"
  },
  "orig_nbformat": 4,
  "vscode": {
   "interpreter": {
    "hash": "aee8b7b246df8f9039afb4144a1f6fd8d2ca17a180786b69acc140d282b71a49"
   }
  }
 },
 "nbformat": 4,
 "nbformat_minor": 2
}
