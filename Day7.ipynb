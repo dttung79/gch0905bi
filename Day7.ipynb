{
 "cells": [
  {
   "cell_type": "code",
   "execution_count": 2,
   "metadata": {},
   "outputs": [
    {
     "name": "stdout",
     "output_type": "stream",
     "text": [
      "[2, 65, 27, 32, 64, 82, 29, 29, 97, 9, 29, 51, 41, 86, 65, 12, 19, 74, 54, 23]\n"
     ]
    }
   ],
   "source": [
    "import random as rd\n",
    "numbers = [rd.randint(1, 100) for i in range(20)]\n",
    "print(numbers)"
   ]
  },
  {
   "cell_type": "code",
   "execution_count": 3,
   "metadata": {},
   "outputs": [
    {
     "name": "stdout",
     "output_type": "stream",
     "text": [
      "[65, 64, 82, 97, 51, 86, 65, 74, 54]\n"
     ]
    }
   ],
   "source": [
    "a = [n for n in numbers if n > 50]\n",
    "print(a)"
   ]
  },
  {
   "cell_type": "code",
   "execution_count": 4,
   "metadata": {},
   "outputs": [
    {
     "name": "stdout",
     "output_type": "stream",
     "text": [
      "[65, 64, 82, 97, 51, 86, 65, 74, 54]\n"
     ]
    }
   ],
   "source": [
    "m = sum(numbers) / len(numbers)\n",
    "b = [n for n in numbers if n > m]\n",
    "print(b)"
   ]
  },
  {
   "cell_type": "code",
   "execution_count": 5,
   "metadata": {},
   "outputs": [
    {
     "name": "stdout",
     "output_type": "stream",
     "text": [
      "[2, 32, 64, 82, 86, 12, 74, 54, 65, 27, 29, 29, 97, 9, 29, 51, 41, 65, 19, 23]\n"
     ]
    }
   ],
   "source": [
    "d = [n for n in numbers if n % 2 == 0] + [n for n in numbers if n % 2 != 0]\n",
    "print(d)"
   ]
  },
  {
   "cell_type": "code",
   "execution_count": 6,
   "metadata": {},
   "outputs": [
    {
     "name": "stdout",
     "output_type": "stream",
     "text": [
      "[2, 27, 64, 29, 97, 29, 41, 65, 19, 54]\n"
     ]
    }
   ],
   "source": [
    "print(numbers[::2])"
   ]
  },
  {
   "cell_type": "code",
   "execution_count": 8,
   "metadata": {},
   "outputs": [
    {
     "name": "stdout",
     "output_type": "stream",
     "text": [
      "[2, 27, 64, 29, 97, 29, 41, 65, 19, 54]\n"
     ]
    }
   ],
   "source": [
    "print([numbers[i] for i in range(0, len(numbers), 2)])"
   ]
  },
  {
   "cell_type": "code",
   "execution_count": 9,
   "metadata": {},
   "outputs": [
    {
     "name": "stdout",
     "output_type": "stream",
     "text": [
      "[65, 32, 82, 29, 9, 51, 86, 12, 74, 23]\n"
     ]
    }
   ],
   "source": [
    "print([numbers[i] for i in range(1, len(numbers), 2)])"
   ]
  },
  {
   "cell_type": "code",
   "execution_count": 10,
   "metadata": {},
   "outputs": [],
   "source": [
    "students = {'Alice': 10, 'Bob': 8, 'Cathy': 5, 'Diane': 7, \n",
    "            'Erika': 9, 'Fred': 6, 'Gina': 6, 'Hannah': 10, 'Mike': 8, 'Lynda': 5}"
   ]
  },
  {
   "cell_type": "code",
   "execution_count": 13,
   "metadata": {},
   "outputs": [
    {
     "name": "stdout",
     "output_type": "stream",
     "text": [
      "Distinction students: \n",
      "Alice 10\n",
      "Erika 9\n",
      "Hannah 10\n"
     ]
    }
   ],
   "source": [
    "print('Distinction students: ')\n",
    "n_distinctions = 0\n",
    "for name, gpa in students.items():\n",
    "    if gpa > 8.0:\n",
    "        n_distinctions += 1\n",
    "        print(name, gpa)"
   ]
  },
  {
   "cell_type": "code",
   "execution_count": 15,
   "metadata": {},
   "outputs": [
    {
     "name": "stdout",
     "output_type": "stream",
     "text": [
      "Distinction students:\n",
      "[('Alice', 10), ('Erika', 9), ('Hannah', 10)]\n"
     ]
    }
   ],
   "source": [
    "print('Distinction students:')\n",
    "distinctions = [(name, gpa) for name, gpa in students.items() if gpa > 8.0]\n",
    "print(distinctions)"
   ]
  },
  {
   "cell_type": "code",
   "execution_count": 16,
   "metadata": {},
   "outputs": [
    {
     "name": "stdout",
     "output_type": "stream",
     "text": [
      "Merit students:\n",
      "[('Diane', 7)]\n"
     ]
    }
   ],
   "source": [
    "print('Merit students:')\n",
    "merits = [(name, gpa) for name, gpa in students.items() if 6.0 < gpa <= 8.0]\n",
    "print(merits)"
   ]
  },
  {
   "cell_type": "code",
   "execution_count": 17,
   "metadata": {},
   "outputs": [],
   "source": [
    "passeds = [(name, gpa) for name, gpa in students.items() if  4.0 < gpa <= 6.0]\n",
    "faileds = [(name, gpa) for name, gpa in students.items() if gpa < 4.0]"
   ]
  },
  {
   "cell_type": "code",
   "execution_count": 20,
   "metadata": {},
   "outputs": [
    {
     "name": "stdout",
     "output_type": "stream",
     "text": [
      "80.0\n"
     ]
    }
   ],
   "source": [
    "pass_rate = (len(passeds) + len(merits) + len(distinctions)) / len(students) * 100\n",
    "print(pass_rate)"
   ]
  },
  {
   "cell_type": "code",
   "execution_count": 21,
   "metadata": {},
   "outputs": [
    {
     "name": "stdout",
     "output_type": "stream",
     "text": [
      "Success\n"
     ]
    }
   ],
   "source": [
    "print('Success' if pass_rate >= 70 else 'Fail')"
   ]
  },
  {
   "cell_type": "code",
   "execution_count": 22,
   "metadata": {},
   "outputs": [],
   "source": [
    "def welcome(name):\n",
    "    print('Welcome', name)"
   ]
  },
  {
   "cell_type": "code",
   "execution_count": 23,
   "metadata": {},
   "outputs": [
    {
     "name": "stdout",
     "output_type": "stream",
     "text": [
      "Welcome John\n"
     ]
    }
   ],
   "source": [
    "name = input('Enter your name: ')\n",
    "welcome(name)"
   ]
  },
  {
   "cell_type": "code",
   "execution_count": 26,
   "metadata": {},
   "outputs": [
    {
     "name": "stdout",
     "output_type": "stream",
     "text": [
      "Welcome ['John', 'Mary', 'Bob']\n"
     ]
    }
   ],
   "source": [
    "welcome(['John', 'Mary', 'Bob'])"
   ]
  },
  {
   "cell_type": "code",
   "execution_count": 28,
   "metadata": {},
   "outputs": [],
   "source": [
    "def my_min(a, b):\n",
    "    return a if a < b else b"
   ]
  },
  {
   "cell_type": "code",
   "execution_count": 31,
   "metadata": {},
   "outputs": [
    {
     "name": "stdout",
     "output_type": "stream",
     "text": [
      "0\n",
      "4.6\n",
      "John\n"
     ]
    }
   ],
   "source": [
    "print(my_min(4, 0))\n",
    "print(my_min(4.6, 7.4))\n",
    "print(my_min('John', 'Mary'))"
   ]
  },
  {
   "cell_type": "code",
   "execution_count": 36,
   "metadata": {},
   "outputs": [
    {
     "ename": "TypeError",
     "evalue": "'<' not supported between instances of 'int' and 'str'",
     "output_type": "error",
     "traceback": [
      "\u001b[0;31m---------------------------------------------------------------------------\u001b[0m",
      "\u001b[0;31mTypeError\u001b[0m                                 Traceback (most recent call last)",
      "\u001b[1;32m/Volumes/GoogleDrive/My Drive/FPTU/Program - F2G new/Unit 14 - Business Intelligence/GCH0905/Python/gch0905bi/Day7.ipynb Cell 20\u001b[0m in \u001b[0;36m<cell line: 3>\u001b[0;34m()\u001b[0m\n\u001b[1;32m      <a href='vscode-notebook-cell:/Volumes/GoogleDrive/My%20Drive/FPTU/Program%20-%20F2G%20new/Unit%2014%20-%20Business%20Intelligence/GCH0905/Python/gch0905bi/Day7.ipynb#ch0000019?line=0'>1</a>\u001b[0m a \u001b[39m=\u001b[39m \u001b[39m4\u001b[39m\n\u001b[1;32m      <a href='vscode-notebook-cell:/Volumes/GoogleDrive/My%20Drive/FPTU/Program%20-%20F2G%20new/Unit%2014%20-%20Business%20Intelligence/GCH0905/Python/gch0905bi/Day7.ipynb#ch0000019?line=1'>2</a>\u001b[0m b \u001b[39m=\u001b[39m \u001b[39m'\u001b[39m\u001b[39mHello\u001b[39m\u001b[39m'\u001b[39m\n\u001b[0;32m----> <a href='vscode-notebook-cell:/Volumes/GoogleDrive/My%20Drive/FPTU/Program%20-%20F2G%20new/Unit%2014%20-%20Business%20Intelligence/GCH0905/Python/gch0905bi/Day7.ipynb#ch0000019?line=2'>3</a>\u001b[0m \u001b[39mprint\u001b[39m(my_min(a, b))\n",
      "\u001b[1;32m/Volumes/GoogleDrive/My Drive/FPTU/Program - F2G new/Unit 14 - Business Intelligence/GCH0905/Python/gch0905bi/Day7.ipynb Cell 20\u001b[0m in \u001b[0;36mmy_min\u001b[0;34m(a, b)\u001b[0m\n\u001b[1;32m      <a href='vscode-notebook-cell:/Volumes/GoogleDrive/My%20Drive/FPTU/Program%20-%20F2G%20new/Unit%2014%20-%20Business%20Intelligence/GCH0905/Python/gch0905bi/Day7.ipynb#ch0000019?line=0'>1</a>\u001b[0m \u001b[39mdef\u001b[39;00m \u001b[39mmy_min\u001b[39m(a, b):\n\u001b[0;32m----> <a href='vscode-notebook-cell:/Volumes/GoogleDrive/My%20Drive/FPTU/Program%20-%20F2G%20new/Unit%2014%20-%20Business%20Intelligence/GCH0905/Python/gch0905bi/Day7.ipynb#ch0000019?line=1'>2</a>\u001b[0m     \u001b[39mreturn\u001b[39;00m a \u001b[39mif\u001b[39;00m a \u001b[39m<\u001b[39;49m b \u001b[39melse\u001b[39;00m b\n",
      "\u001b[0;31mTypeError\u001b[0m: '<' not supported between instances of 'int' and 'str'"
     ]
    }
   ],
   "source": [
    "a = 4\n",
    "b = 'Hello'\n",
    "print(my_min(a, b))"
   ]
  },
  {
   "cell_type": "code",
   "execution_count": 39,
   "metadata": {},
   "outputs": [],
   "source": [
    "# passing parameters to a function\n",
    "def test_parameters(number, st, li):\n",
    "    number *= 2\n",
    "    st = 'Hello ' + st\n",
    "    li[0] = 'Hello'\n",
    "    print(number, st, li, sep='\\n')"
   ]
  },
  {
   "cell_type": "markdown",
   "metadata": {},
   "source": []
  },
  {
   "cell_type": "code",
   "execution_count": 41,
   "metadata": {},
   "outputs": [
    {
     "name": "stdout",
     "output_type": "stream",
     "text": [
      "10\n",
      "Hello John\n",
      "['Hello', 2, 3]\n",
      "=================\n",
      "5\n",
      "John\n",
      "['Hello', 2, 3]\n"
     ]
    }
   ],
   "source": [
    "n = 5\n",
    "s = 'John'\n",
    "l = [1, 2, 3]\n",
    "test_parameters(n, s, l)\n",
    "print('=================')\n",
    "print(n, s, l, sep='\\n')"
   ]
  }
 ],
 "metadata": {
  "kernelspec": {
   "display_name": "Python 3.9.12 64-bit",
   "language": "python",
   "name": "python3"
  },
  "language_info": {
   "codemirror_mode": {
    "name": "ipython",
    "version": 3
   },
   "file_extension": ".py",
   "mimetype": "text/x-python",
   "name": "python",
   "nbconvert_exporter": "python",
   "pygments_lexer": "ipython3",
   "version": "3.9.12"
  },
  "orig_nbformat": 4,
  "vscode": {
   "interpreter": {
    "hash": "aee8b7b246df8f9039afb4144a1f6fd8d2ca17a180786b69acc140d282b71a49"
   }
  }
 },
 "nbformat": 4,
 "nbformat_minor": 2
}
