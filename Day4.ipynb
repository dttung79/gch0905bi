{
 "cells": [
  {
   "cell_type": "code",
   "execution_count": 1,
   "metadata": {},
   "outputs": [
    {
     "name": "stdout",
     "output_type": "stream",
     "text": [
      "[23 93 56 86 19 84 88 43  0 17 75 94 95 60 39 53 67 40 66 70]\n"
     ]
    }
   ],
   "source": [
    "import numpy as np\n",
    "# random of 20 integers between 0 and 99\n",
    "a = np.random.randint(0, 100, 20)\n",
    "print(a)"
   ]
  },
  {
   "cell_type": "code",
   "execution_count": 2,
   "metadata": {},
   "outputs": [
    {
     "name": "stdout",
     "output_type": "stream",
     "text": [
      "56 86 84 88 0 94 60 40 66 70 "
     ]
    }
   ],
   "source": [
    "for i in range(len(a)):\n",
    "    if a[i] % 2 == 0:\n",
    "        print(a[i], end=' ')"
   ]
  },
  {
   "cell_type": "code",
   "execution_count": 3,
   "metadata": {},
   "outputs": [
    {
     "name": "stdout",
     "output_type": "stream",
     "text": [
      "[56 86 84 88  0 94 60 40 66 70]\n"
     ]
    }
   ],
   "source": [
    "# find evens in a using boolean indexing\n",
    "evens = a[a % 2 == 0]\n",
    "print(evens)"
   ]
  },
  {
   "cell_type": "code",
   "execution_count": 4,
   "metadata": {},
   "outputs": [
    {
     "name": "stdout",
     "output_type": "stream",
     "text": [
      "[23 93 56 86 19 84 88 43  0 17 75 94 95 60 39 53 67 40 66 70]\n",
      "[False False  True  True False  True  True False  True False False  True\n",
      " False  True False False False  True  True  True]\n"
     ]
    }
   ],
   "source": [
    "b = a % 2 == 0\n",
    "print(a, b, sep='\\n')"
   ]
  },
  {
   "cell_type": "code",
   "execution_count": 5,
   "metadata": {},
   "outputs": [
    {
     "name": "stdout",
     "output_type": "stream",
     "text": [
      "[56 86 84 88  0 94 60 40 66 70]\n"
     ]
    }
   ],
   "source": [
    "evens = a[b]\n",
    "print(evens)"
   ]
  },
  {
   "cell_type": "code",
   "execution_count": 7,
   "metadata": {},
   "outputs": [
    {
     "name": "stdout",
     "output_type": "stream",
     "text": [
      "[23 93 19 43 17 75 95 39 53 67]\n",
      "[93 56 86 84 88 75 94 95 60 53 67 66 70]\n",
      "[23 93 43 53]\n"
     ]
    }
   ],
   "source": [
    "evens = a[a%2==0]\n",
    "# find odds numbers\n",
    "odds = a[a%2!=0]\n",
    "print(odds)\n",
    "# find numbers that greater than 50\n",
    "bigs = a[a>50]\n",
    "print(bigs)\n",
    "# find numbers that ends with 3\n",
    "end3 = a[a%10==3]\n",
    "print(end3)"
   ]
  },
  {
   "cell_type": "code",
   "execution_count": 11,
   "metadata": {},
   "outputs": [
    {
     "name": "stdout",
     "output_type": "stream",
     "text": [
      "[-32  20 -98  56  60 -25  14  90   3 -76  72  38 -92  47   8 -74 -49 -90\n",
      "  39  57]\n",
      "[-32 -98 -25 -76 -92 -74 -49 -90]\n",
      "[20 56 60 14 90  3 72 38 47  8 39 57]\n",
      "[-98  38   8]\n"
     ]
    }
   ],
   "source": [
    "a = np.random.randint(-99, 100, 20)\n",
    "print(a)\n",
    "# find negative numbers\n",
    "negatives = a[a<0]\n",
    "print(negatives)\n",
    "# find positive numbers\n",
    "positives = a[a>0]\n",
    "print(positives)\n",
    "# find numbers that ends with 8\n",
    "end8 = a[np.abs(a)%10==8]\n",
    "print(end8)"
   ]
  },
  {
   "cell_type": "code",
   "execution_count": 12,
   "metadata": {},
   "outputs": [
    {
     "name": "stdout",
     "output_type": "stream",
     "text": [
      "[-10  -4 -15 -92  -5  64  92  15  15  26  40  12  34 -30  45   9 -20 -58\n",
      "  24  51]\n",
      "[-78  57  18  85  27 -89 -52  24 -30 -31 -51  12 -56  39 -68  63  75  65\n",
      "  24 -10]\n",
      "[-10  15  12   9  24]\n"
     ]
    }
   ],
   "source": [
    "a = np.random.randint(-99, 100, 20)\n",
    "b = np.random.randint(-99, 100, 20)\n",
    "# find numbers in a that are sign corresponding to numbers in b\n",
    "c = a[a*b>0]\n",
    "print(a, b, c, sep='\\n')"
   ]
  },
  {
   "cell_type": "code",
   "execution_count": 15,
   "metadata": {},
   "outputs": [
    {
     "name": "stdout",
     "output_type": "stream",
     "text": [
      "[-35  17  48  23 -42  73  27  35 -66  33 -19  43 -15  86  60  17 -30   9\n",
      " -83 -92]\n",
      "[35 17 48 23 42 73 27 35 66 33 19 43 15 86 60 17 30  9 83 92]\n"
     ]
    }
   ],
   "source": [
    "# convert negative numbers to positive\n",
    "a = np.random.randint(-99, 100, 20)\n",
    "print(a)\n",
    "a[a<0] *= -1\n",
    "print(a)"
   ]
  },
  {
   "cell_type": "code",
   "execution_count": 20,
   "metadata": {},
   "outputs": [
    {
     "name": "stdout",
     "output_type": "stream",
     "text": [
      "['Bob Dylan' 'Joe Aggrington' 'Will Smith' '' 'Micheal Jackson' '' '']\n"
     ]
    }
   ],
   "source": [
    "names = np.array(['Bob Dylan', 'Joe Aggrington', 'Will Smith', '', 'Micheal Jackson', '', ''])\n",
    "print(names)"
   ]
  },
  {
   "cell_type": "code",
   "execution_count": 21,
   "metadata": {},
   "outputs": [
    {
     "name": "stdout",
     "output_type": "stream",
     "text": [
      "['Bob Dylan' 'Joe Aggrington' 'Will Smith' 'John Doe' 'Micheal Jackson'\n",
      " 'John Doe' 'John Doe']\n"
     ]
    }
   ],
   "source": [
    "# change empty names to default name 'John Doe'\n",
    "names[names == ''] = 'John Doe'\n",
    "print(names)"
   ]
  },
  {
   "cell_type": "code",
   "execution_count": 24,
   "metadata": {},
   "outputs": [
    {
     "name": "stdout",
     "output_type": "stream",
     "text": [
      "2.653061224489796 7.254901960784314\n",
      "2.653061224489796 7.254901960784314 11.8 13.793103448275858 20.851063829787247 17.384615384615376 "
     ]
    }
   ],
   "source": [
    "y = np.array([0., 1.3, 5. , 10.9, 18.9, 28.7, 40.]) \n",
    "t = np.array([0., 0.49, 1. , 1.5 , 2.08, 2.55, 3.2])\n",
    "v0 = (y[1] - y[0]) / (t[1] - t[0])\n",
    "v1 = (y[2] - y[1]) / (t[2] - t[1])\n",
    "print(v0, v1)\n",
    "for i in range(1, len(y)):\n",
    "    v = (y[i] - y[i-1]) / (t[i] - t[i-1])\n",
    "    print(v, end=' ')"
   ]
  },
  {
   "cell_type": "code",
   "execution_count": 25,
   "metadata": {},
   "outputs": [
    {
     "name": "stdout",
     "output_type": "stream",
     "text": [
      "[ 2.65306122  7.25490196 11.8        13.79310345 20.85106383 17.38461538]\n"
     ]
    }
   ],
   "source": [
    "v = (y[1:] - y[:-1]) / (t[1:] - t[:-1])\n",
    "print(v)"
   ]
  }
 ],
 "metadata": {
  "kernelspec": {
   "display_name": "Python 3.9.12 64-bit",
   "language": "python",
   "name": "python3"
  },
  "language_info": {
   "codemirror_mode": {
    "name": "ipython",
    "version": 3
   },
   "file_extension": ".py",
   "mimetype": "text/x-python",
   "name": "python",
   "nbconvert_exporter": "python",
   "pygments_lexer": "ipython3",
   "version": "3.9.12"
  },
  "orig_nbformat": 4,
  "vscode": {
   "interpreter": {
    "hash": "aee8b7b246df8f9039afb4144a1f6fd8d2ca17a180786b69acc140d282b71a49"
   }
  }
 },
 "nbformat": 4,
 "nbformat_minor": 2
}
