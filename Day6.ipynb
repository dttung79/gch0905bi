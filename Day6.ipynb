{
 "cells": [
  {
   "cell_type": "code",
   "execution_count": 3,
   "metadata": {},
   "outputs": [
    {
     "name": "stdout",
     "output_type": "stream",
     "text": [
      "{'Alice': 10, 'Bob': 8, 'Cathy': 5, 'Diane': 7, 'Erika': 9, 'Fred': 6, 'Gina': 4}\n"
     ]
    }
   ],
   "source": [
    "students = {'Alice': 10, 'Bob': 8, 'Cathy': 5, 'Diane': 7, 'Erika': 9, 'Fred': 6, 'Gina': 4}\n",
    "print(students)"
   ]
  },
  {
   "cell_type": "code",
   "execution_count": 7,
   "metadata": {},
   "outputs": [
    {
     "name": "stdout",
     "output_type": "stream",
     "text": [
      "Max GPA: 10\n",
      "Best student: Alice\n",
      "Worst student: Gina\n"
     ]
    }
   ],
   "source": [
    "gpas = list(students.values())\n",
    "print('Max GPA:', max(gpas))\n",
    "print('Best student:', max(students, key=students.get))\n",
    "print('Worst student:', min(students, key=students.get))"
   ]
  },
  {
   "cell_type": "code",
   "execution_count": 8,
   "metadata": {},
   "outputs": [
    {
     "name": "stdout",
     "output_type": "stream",
     "text": [
      "Mean GAP: 7.0\n"
     ]
    }
   ],
   "source": [
    "print('Mean GAP:', sum(gpas) / len(gpas)) # np.mean(gpas)"
   ]
  },
  {
   "cell_type": "code",
   "execution_count": 9,
   "metadata": {},
   "outputs": [
    {
     "name": "stdout",
     "output_type": "stream",
     "text": [
      "* \n",
      "* * \n",
      "* * * \n",
      "* * * * \n",
      "* * * * * \n"
     ]
    }
   ],
   "source": [
    "# For loop: for item in sequence\n",
    "# Print triangle of asterisks with n entered by user\n",
    "n = int(input('Enter a number: '))\n",
    "for i in range(n):\n",
    "    for j in range(i+1):\n",
    "        print('* ', end='')\n",
    "    print()"
   ]
  },
  {
   "cell_type": "code",
   "execution_count": 10,
   "metadata": {},
   "outputs": [
    {
     "name": "stdout",
     "output_type": "stream",
     "text": [
      "* \n",
      "* * \n",
      "* * * \n",
      "* * * * \n",
      "* * * * * \n"
     ]
    }
   ],
   "source": [
    "for i in range(n):\n",
    "    print('* ' * (i+1))"
   ]
  },
  {
   "cell_type": "code",
   "execution_count": 11,
   "metadata": {},
   "outputs": [
    {
     "name": "stdout",
     "output_type": "stream",
     "text": [
      "* * * * * \n",
      "* * * * \n",
      "* * * \n",
      "* * \n",
      "* \n"
     ]
    }
   ],
   "source": [
    "for i in range(n):\n",
    "    print('* ' * (n-i))"
   ]
  },
  {
   "cell_type": "code",
   "execution_count": 17,
   "metadata": {},
   "outputs": [
    {
     "name": "stdout",
     "output_type": "stream",
     "text": [
      "         * \n",
      "       * * \n",
      "     * * * \n",
      "   * * * * \n",
      " * * * * * \n"
     ]
    }
   ],
   "source": [
    "for i in range(n):\n",
    "    print('  ' * (n-i-1), '* ' * (i+1))"
   ]
  },
  {
   "cell_type": "code",
   "execution_count": 20,
   "metadata": {},
   "outputs": [
    {
     "name": "stdout",
     "output_type": "stream",
     "text": [
      "[76  8 54 52 53 30 30 42 56 63 65 67 56 78  6 43 49 89 32 42]\n",
      "Sum of even numbers: 562\n"
     ]
    }
   ],
   "source": [
    "# Loop through array\n",
    "import numpy as np\n",
    "numbers = np.random.randint(0, 100, 20)\n",
    "print(numbers)\n",
    "s = 0\n",
    "for n in numbers:\n",
    "    if n % 2 == 0:\n",
    "        s += n\n",
    "print('Sum of even numbers:', s)"
   ]
  },
  {
   "cell_type": "code",
   "execution_count": 21,
   "metadata": {},
   "outputs": [
    {
     "name": "stdout",
     "output_type": "stream",
     "text": [
      "Sum of even numbers: 562\n"
     ]
    }
   ],
   "source": [
    "print('Sum of even numbers:', sum(numbers[numbers % 2 == 0]))"
   ]
  },
  {
   "cell_type": "code",
   "execution_count": 23,
   "metadata": {},
   "outputs": [
    {
     "name": "stdout",
     "output_type": "stream",
     "text": [
      "Hello Python World\n",
      "Number of vowels: 4\n"
     ]
    }
   ],
   "source": [
    "# Loop through a string\n",
    "msg = input('Enter a message: ')\n",
    "print(msg)\n",
    "# count the number of vowels in the message\n",
    "nvowels = 0\n",
    "for c in msg:\n",
    "    if c in 'aeiou':\n",
    "        nvowels += 1\n",
    "print('Number of vowels:', nvowels)"
   ]
  },
  {
   "cell_type": "code",
   "execution_count": 24,
   "metadata": {},
   "outputs": [
    {
     "name": "stdout",
     "output_type": "stream",
     "text": [
      "{'Alice': 10, 'Bob': 8, 'Cathy': 5, 'Diane': 7, 'Erika': 9, 'Fred': 6, 'Gina': 4}\n"
     ]
    }
   ],
   "source": [
    "# Loop through dictionary\n",
    "print(students)"
   ]
  },
  {
   "cell_type": "code",
   "execution_count": 25,
   "metadata": {},
   "outputs": [
    {
     "name": "stdout",
     "output_type": "stream",
     "text": [
      "Alice 10\n",
      "Bob 8\n",
      "Diane 7\n",
      "Erika 9\n",
      "Fred 6\n"
     ]
    }
   ],
   "source": [
    "# Find students with GPA > 5\n",
    "for name, gpa in students.items():\n",
    "    if gpa > 5:\n",
    "        print(name, gpa)"
   ]
  },
  {
   "cell_type": "code",
   "execution_count": 26,
   "metadata": {},
   "outputs": [
    {
     "name": "stdout",
     "output_type": "stream",
     "text": [
      "Best student: Alice 10\n"
     ]
    }
   ],
   "source": [
    "maxgpa = 0\n",
    "for name, gpa in students.items():\n",
    "    if gpa > maxgpa:\n",
    "        maxgpa = gpa\n",
    "        beststudent = name\n",
    "print('Best student:', beststudent, maxgpa)"
   ]
  },
  {
   "cell_type": "code",
   "execution_count": 27,
   "metadata": {},
   "outputs": [
    {
     "name": "stdout",
     "output_type": "stream",
     "text": [
      "1 Alice\n",
      "2 Bob\n",
      "3 Cathy\n",
      "4 Diane\n",
      "5 Erika\n",
      "6 Fred\n",
      "7 Gina\n"
     ]
    }
   ],
   "source": [
    "names = list(students.keys())\n",
    "# 1\n",
    "for i in range(len(names)):\n",
    "    print(i+1, names[i])"
   ]
  },
  {
   "cell_type": "code",
   "execution_count": 28,
   "metadata": {},
   "outputs": [
    {
     "name": "stdout",
     "output_type": "stream",
     "text": [
      "1 Alice\n",
      "2 Bob\n",
      "3 Cathy\n",
      "4 Diane\n",
      "5 Erika\n",
      "6 Fred\n",
      "7 Gina\n"
     ]
    }
   ],
   "source": [
    "for i, name in enumerate(names):\n",
    "    print(i+1, name)"
   ]
  },
  {
   "cell_type": "code",
   "execution_count": 40,
   "metadata": {},
   "outputs": [
    {
     "name": "stdout",
     "output_type": "stream",
     "text": [
      "[61, 46, 4, 85, 23, 62, 39, 82, 81, 3, 54, 45, 44, 86, 27, 97, 73, 36, 35, 49]\n"
     ]
    }
   ],
   "source": [
    "import random as rd\n",
    "numbers = rd.sample(range(1, 100), 20)\n",
    "print(numbers)"
   ]
  },
  {
   "cell_type": "code",
   "execution_count": 30,
   "metadata": {},
   "outputs": [
    {
     "name": "stdout",
     "output_type": "stream",
     "text": [
      "Sum of even numbers: 202\n"
     ]
    }
   ],
   "source": [
    "s = 0\n",
    "for n in numbers:\n",
    "    if n % 2 == 0:\n",
    "        s += n\n",
    "print('Sum of even numbers:', s)"
   ]
  },
  {
   "cell_type": "code",
   "execution_count": 32,
   "metadata": {},
   "outputs": [
    {
     "name": "stdout",
     "output_type": "stream",
     "text": [
      "Even numbers: [18, 62, 14, 60, 38, 10]\n",
      "Sum of even numbers: 202\n"
     ]
    }
   ],
   "source": [
    "evens = [n for n in numbers if n % 2 == 0]\n",
    "print('Even numbers:', evens)\n",
    "print('Sum of even numbers:', sum(evens))"
   ]
  },
  {
   "cell_type": "code",
   "execution_count": 33,
   "metadata": {},
   "outputs": [
    {
     "name": "stdout",
     "output_type": "stream",
     "text": [
      "Sum of odd numbers: 496\n"
     ]
    }
   ],
   "source": [
    "print('Sum of odd numbers:', sum([n for n in numbers if n % 2 == 1]))"
   ]
  },
  {
   "cell_type": "code",
   "execution_count": 35,
   "metadata": {},
   "outputs": [
    {
     "name": "stdout",
     "output_type": "stream",
     "text": [
      "George Harrison 15\n"
     ]
    }
   ],
   "source": [
    "names = ['John Lennon', 'Paul McCartney', 'George Harrison', 'Ringo Starr', 'Mick Jagger', 'Keith Richards']\n",
    "# find longest name\n",
    "longest_name = max(names, key=len)\n",
    "print(longest_name, len(longest_name))"
   ]
  },
  {
   "cell_type": "code",
   "execution_count": 36,
   "metadata": {},
   "outputs": [
    {
     "name": "stdout",
     "output_type": "stream",
     "text": [
      "15\n"
     ]
    }
   ],
   "source": [
    "lenghs = [len(name) for name in names]\n",
    "print(max(lenghs))"
   ]
  },
  {
   "cell_type": "code",
   "execution_count": 38,
   "metadata": {},
   "outputs": [
    {
     "name": "stdout",
     "output_type": "stream",
     "text": [
      "['Paul McCartney', 'George Harrison', 'Ringo Starr', 'Mick Jagger', 'Keith Richards']\n",
      "[1, 5, 8, 2, 5, 3, 1, 9, 4, 1, 9, 0, 8, 1, 0, 3, 9, 7, 7, 5]\n"
     ]
    }
   ],
   "source": [
    "# Find names that has character 'a'\n",
    "anames = [n for n in names if 'a' in n]\n",
    "# Find last digits of numbers\n",
    "last_digits = [n % 10 for n in numbers]\n",
    "print(anames)\n",
    "print(last_digits)"
   ]
  },
  {
   "cell_type": "code",
   "execution_count": 42,
   "metadata": {},
   "outputs": [
    {
     "name": "stdout",
     "output_type": "stream",
     "text": [
      "[61, 46, 4, 85, 23, 62, 39, 82, 81, 3, 54, 45, 44, 86, 27, 97, 73, 36, 35, 49]\n",
      "[6, 4, 8, 2, 6, 3, 8, 8, 5, 4, 4, 8, 2, 9, 7, 3, 3, 4]\n"
     ]
    }
   ],
   "source": [
    "print(numbers)\n",
    "print([n//10 for n in numbers if n >= 10])"
   ]
  },
  {
   "cell_type": "code",
   "execution_count": 43,
   "metadata": {},
   "outputs": [
    {
     "name": "stdout",
     "output_type": "stream",
     "text": [
      "[-50, 48, -31, 59, 99, 52, 67, 76, -40, 11, 13, -49, -83, -20, -96, -56, -89, 1, 70, 66]\n"
     ]
    }
   ],
   "source": [
    "numbers = rd.sample(range(-100, 100), 20)\n",
    "print(numbers)"
   ]
  },
  {
   "cell_type": "code",
   "execution_count": 44,
   "metadata": {},
   "outputs": [
    {
     "name": "stdout",
     "output_type": "stream",
     "text": [
      "[50, 48, 31, 59, 99, 52, 67, 76, 40, 11, 13, 49, 83, 20, 96, 56, 89, 1, 70, 66]\n"
     ]
    }
   ],
   "source": [
    "positives = [n if n>0 else -n for n in numbers]\n",
    "print(positives)"
   ]
  },
  {
   "cell_type": "code",
   "execution_count": 45,
   "metadata": {},
   "outputs": [
    {
     "name": "stdout",
     "output_type": "stream",
     "text": [
      "['John Lennon', 'Paul McCartney', 'John Doe', 'Ringo Starr', 'John Doe', 'Keith Richards']\n"
     ]
    }
   ],
   "source": [
    "names = ['John Lennon', 'Paul McCartney', '', 'Ringo Starr', '', 'Keith Richards']\n",
    "# change empty names to 'John Doe'\n",
    "fix_names = [n if n != '' else 'John Doe' for n in names]\n",
    "print(fix_names)"
   ]
  }
 ],
 "metadata": {
  "kernelspec": {
   "display_name": "Python 3.9.12 64-bit",
   "language": "python",
   "name": "python3"
  },
  "language_info": {
   "codemirror_mode": {
    "name": "ipython",
    "version": 3
   },
   "file_extension": ".py",
   "mimetype": "text/x-python",
   "name": "python",
   "nbconvert_exporter": "python",
   "pygments_lexer": "ipython3",
   "version": "3.9.12"
  },
  "orig_nbformat": 4,
  "vscode": {
   "interpreter": {
    "hash": "aee8b7b246df8f9039afb4144a1f6fd8d2ca17a180786b69acc140d282b71a49"
   }
  }
 },
 "nbformat": 4,
 "nbformat_minor": 2
}
