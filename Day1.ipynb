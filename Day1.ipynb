{
 "cells": [
  {
   "cell_type": "code",
   "execution_count": 1,
   "metadata": {},
   "outputs": [
    {
     "name": "stdout",
     "output_type": "stream",
     "text": [
      "hello world\n"
     ]
    }
   ],
   "source": [
    "print('hello world')"
   ]
  },
  {
   "cell_type": "code",
   "execution_count": 4,
   "metadata": {},
   "outputs": [
    {
     "name": "stdout",
     "output_type": "stream",
     "text": [
      "5 <class 'int'>\n",
      "5.0 <class 'float'>\n",
      "5 <class 'str'>\n"
     ]
    }
   ],
   "source": [
    "a = 5\n",
    "print(a, type(a))\n",
    "a = 5.0\n",
    "print(a, type(a))\n",
    "a = '5'\n",
    "print(a, type(a))"
   ]
  },
  {
   "cell_type": "code",
   "execution_count": 8,
   "metadata": {},
   "outputs": [
    {
     "name": "stdout",
     "output_type": "stream",
     "text": [
      "Hello John Lennon you are 37 years old\n"
     ]
    }
   ],
   "source": [
    "name = input('Enter your name: ')\n",
    "age = int(input('Enter your age: '))\n",
    "print('Hello', name, 'you are', age, 'years old')"
   ]
  },
  {
   "cell_type": "code",
   "execution_count": 13,
   "metadata": {},
   "outputs": [
    {
     "name": "stdout",
     "output_type": "stream",
     "text": [
      "|         John Lennon|    37    |\n"
     ]
    }
   ],
   "source": [
    "print('|{0:>20s}|{1:^10d}|'.format(name, age))"
   ]
  },
  {
   "cell_type": "code",
   "execution_count": null,
   "metadata": {},
   "outputs": [],
   "source": [
    "name = input('Enter student name: ')\n",
    "math = float(input('Enter math grade: '))\n",
    "lit = float(input('Enter literature grade: '))\n",
    "eng = float(input('Enter english grade: '))\n",
    "gpa = (math + lit + eng) / 3\n"
   ]
  },
  {
   "cell_type": "code",
   "execution_count": 26,
   "metadata": {},
   "outputs": [
    {
     "name": "stdout",
     "output_type": "stream",
     "text": [
      "+--------------------+-----+-----+-----+-----+\n",
      "|Name                | Math|  Lit|  Eng|  GPA|\n",
      "+--------------------+-----+-----+-----+-----+\n",
      "|Hoang               | 4.00| 5.00| 6.00| 5.00|\n",
      "+--------------------+-----+-----+-----+-----+\n"
     ]
    }
   ],
   "source": [
    "print('+', '-'*20, '+', '-'*5, '+', '-'*5, '+', '-'*5, '+', '-'*5, '+', sep='')\n",
    "print('|{0:20s}|{1:>5s}|{2:>5s}|{3:>5s}|{4:>5s}|'.format('Name', 'Math', 'Lit', 'Eng', 'GPA'))\n",
    "print('+', '-'*20, '+', '-'*5, '+', '-'*5, '+', '-'*5, '+', '-'*5, '+', sep='')\n",
    "print('|{0:20s}|{1:5.2f}|{2:5.2f}|{3:5.2f}|{4:5.2f}|'.format(name, math, lit, eng, gpa))\n",
    "print('+', '-'*20, '+', '-'*5, '+', '-'*5, '+', '-'*5, '+', '-'*5, '+', sep='')"
   ]
  },
  {
   "cell_type": "code",
   "execution_count": 27,
   "metadata": {},
   "outputs": [
    {
     "name": "stdout",
     "output_type": "stream",
     "text": [
      "Pass\n"
     ]
    }
   ],
   "source": [
    "# if statement\n",
    "if gpa >= 8.0:\n",
    "    print('Distinction')\n",
    "elif gpa >= 6.5:\n",
    "    print('Merit')\n",
    "elif gpa >= 4.0:\n",
    "    print('Pass')\n",
    "else:\n",
    "    print('Fail')"
   ]
  },
  {
   "cell_type": "code",
   "execution_count": 33,
   "metadata": {},
   "outputs": [
    {
     "name": "stdout",
     "output_type": "stream",
     "text": [
      " 7 x 1 =  7\n",
      " 7 x 2 = 14\n",
      " 7 x 3 = 21\n",
      " 7 x 4 = 28\n",
      " 7 x 5 = 35\n",
      " 7 x 6 = 42\n",
      " 7 x 7 = 49\n",
      " 7 x 8 = 56\n",
      " 7 x 9 = 63\n",
      " 7 x10 = 70\n",
      "=================\n",
      " 7 x 1 =  7\n",
      " 7 x 2 = 14\n",
      " 7 x 3 = 21\n",
      " 7 x 4 = 28\n",
      " 7 x 5 = 35\n",
      " 7 x 6 = 42\n",
      " 7 x 7 = 49\n",
      " 7 x 8 = 56\n",
      " 7 x 9 = 63\n",
      " 7 x10 = 70\n"
     ]
    }
   ],
   "source": [
    "n = int(input('Enter a number (1-10): '))\n",
    "i = 1\n",
    "while i <= 10:\n",
    "    print('{0:2d} x{1:2d} ={2:3d}'.format(n, i, n*i))\n",
    "    i += 1\n",
    "print('=================')\n",
    "for i in range(1, 11):\n",
    "    print('{0:2d} x{1:2d} ={2:3d}'.format(n, i, n*i))"
   ]
  },
  {
   "cell_type": "code",
   "execution_count": 34,
   "metadata": {},
   "outputs": [
    {
     "name": "stdout",
     "output_type": "stream",
     "text": [
      "Max: 5\n"
     ]
    }
   ],
   "source": [
    "a = int(input('Enter a: '))\n",
    "b = int(input('Enter b: '))\n",
    "if a > b:\n",
    "    m = a\n",
    "else:\n",
    "    m = b\n",
    "print('Max:', m)"
   ]
  },
  {
   "cell_type": "code",
   "execution_count": 35,
   "metadata": {},
   "outputs": [
    {
     "name": "stdout",
     "output_type": "stream",
     "text": [
      "Max: 5\n"
     ]
    }
   ],
   "source": [
    "m = a if a > b else b\n",
    "print('Max:', m)"
   ]
  },
  {
   "cell_type": "code",
   "execution_count": 36,
   "metadata": {},
   "outputs": [
    {
     "name": "stdout",
     "output_type": "stream",
     "text": [
      "Pass\n"
     ]
    }
   ],
   "source": [
    "print('Distinction' if gpa > 8.0 else 'Merit' if gpa > 6.5 else 'Pass' if gpa > 4.0 else 'Fail')"
   ]
  }
 ],
 "metadata": {
  "kernelspec": {
   "display_name": "Python 3.9.12 64-bit",
   "language": "python",
   "name": "python3"
  },
  "language_info": {
   "codemirror_mode": {
    "name": "ipython",
    "version": 3
   },
   "file_extension": ".py",
   "mimetype": "text/x-python",
   "name": "python",
   "nbconvert_exporter": "python",
   "pygments_lexer": "ipython3",
   "version": "3.9.12"
  },
  "orig_nbformat": 4,
  "vscode": {
   "interpreter": {
    "hash": "aee8b7b246df8f9039afb4144a1f6fd8d2ca17a180786b69acc140d282b71a49"
   }
  }
 },
 "nbformat": 4,
 "nbformat_minor": 2
}
