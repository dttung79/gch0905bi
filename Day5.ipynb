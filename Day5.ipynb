{
 "cells": [
  {
   "cell_type": "code",
   "execution_count": 1,
   "metadata": {},
   "outputs": [
    {
     "name": "stdout",
     "output_type": "stream",
     "text": [
      "[[1], [2, 3], [4, 5, 6]]\n"
     ]
    }
   ],
   "source": [
    "a = [[1],\n",
    "     [2, 3],\n",
    "     [4, 5, 6]]\n",
    "print(a)"
   ]
  },
  {
   "cell_type": "code",
   "execution_count": 3,
   "metadata": {},
   "outputs": [
    {
     "name": "stdout",
     "output_type": "stream",
     "text": [
      "[[1 2 3]\n",
      " [4 5 6]\n",
      " [7 8 9]] (3, 3)\n"
     ]
    }
   ],
   "source": [
    "import numpy as np\n",
    "a = np.array([[1, 2, 3], [4, 5, 6], [7, 8, 9]])\n",
    "print(a, a.shape)"
   ]
  },
  {
   "cell_type": "code",
   "execution_count": 7,
   "metadata": {},
   "outputs": [
    {
     "name": "stdout",
     "output_type": "stream",
     "text": [
      "[1 2 3 4 5 6] (6,)\n",
      "[[1 2]\n",
      " [3 4]\n",
      " [5 6]]\n",
      "(3, 2)\n",
      "[[1 2 3]\n",
      " [4 5 6]]\n",
      "(2, 3)\n",
      "[[1 2 3 4 5 6]]\n",
      "(1, 6)\n",
      "[[1]\n",
      " [2]\n",
      " [3]\n",
      " [4]\n",
      " [5]\n",
      " [6]]\n",
      "(6, 1)\n"
     ]
    }
   ],
   "source": [
    "a = np.array([1, 2, 3, 4, 5, 6])\n",
    "print(a, a.shape)\n",
    "b = np.reshape(a, (3, 2))\n",
    "c = np.reshape(a, (2, 3))\n",
    "d = np.reshape(a, (1, 6))\n",
    "e = np.reshape(a, (6, 1))\n",
    "print(b, b.shape, c, c.shape, d, d.shape, e, e.shape, sep='\\n')"
   ]
  },
  {
   "cell_type": "code",
   "execution_count": null,
   "metadata": {},
   "outputs": [],
   "source": [
    "f = np.reshape(a, (3, 3)) # error"
   ]
  },
  {
   "cell_type": "code",
   "execution_count": 10,
   "metadata": {},
   "outputs": [
    {
     "name": "stdout",
     "output_type": "stream",
     "text": [
      "[[96 98 29 79 88]\n",
      " [50 75 13 10 56]\n",
      " [45 34 39 17 84]\n",
      " [50 27 52 64 53]\n",
      " [47 56 87 66 46]]\n",
      "17\n",
      "17\n",
      "17\n",
      "17\n"
     ]
    }
   ],
   "source": [
    "# create matrix 5x5 of random integers\n",
    "a = np.random.randint(10, 100, (5, 5))\n",
    "print(a)\n",
    "print(a[2, 3], a[2, -2], a[-3, 3], a[-3, -2], sep='\\n')"
   ]
  },
  {
   "cell_type": "code",
   "execution_count": 18,
   "metadata": {},
   "outputs": [
    {
     "name": "stdout",
     "output_type": "stream",
     "text": [
      "[52 64]\n",
      "[10 17 64]\n",
      "[[13 10]\n",
      " [39 17]\n",
      " [52 64]]\n",
      "[79 10 17 64 66]\n",
      "[[96 98 29 79 88]\n",
      " [45 34 39 17 84]\n",
      " [47 56 87 66 46]]\n",
      "[[96 29 88]\n",
      " [45 39 84]\n",
      " [47 87 46]]\n"
     ]
    }
   ],
   "source": [
    "print(a[3, 2:4])\n",
    "print(a[1:4, 3])\n",
    "print(a[1:4, 2:4])\n",
    "print(a[:, 3])\n",
    "print(a[::2, :])\n",
    "print(a[::2, ::2])"
   ]
  },
  {
   "cell_type": "code",
   "execution_count": 21,
   "metadata": {},
   "outputs": [
    {
     "name": "stdout",
     "output_type": "stream",
     "text": [
      "[[1 1 1]\n",
      " [1 1 1]\n",
      " [1 1 1]]\n",
      "[[1 1 1]\n",
      " [0 0 0]\n",
      " [1 1 1]]\n"
     ]
    }
   ],
   "source": [
    "a = np.ones((3, 3), dtype=int)\n",
    "print(a)\n",
    "a[1] = 0\n",
    "print(a)"
   ]
  },
  {
   "cell_type": "code",
   "execution_count": 22,
   "metadata": {},
   "outputs": [
    {
     "name": "stdout",
     "output_type": "stream",
     "text": [
      "[[1 1 1 1 1 1 1 1]\n",
      " [1 0 0 0 0 0 0 1]\n",
      " [1 0 0 0 0 0 0 1]\n",
      " [1 0 0 0 0 0 0 1]\n",
      " [1 0 0 0 0 0 0 1]\n",
      " [1 0 0 0 0 0 0 1]\n",
      " [1 0 0 0 0 0 0 1]\n",
      " [1 1 1 1 1 1 1 1]]\n"
     ]
    }
   ],
   "source": [
    "a = np.ones((8, 8), dtype=int)\n",
    "a[1:7, 1:7] = 0\n",
    "print(a)"
   ]
  },
  {
   "cell_type": "code",
   "execution_count": 24,
   "metadata": {},
   "outputs": [
    {
     "name": "stdout",
     "output_type": "stream",
     "text": [
      "[[0 1 0 1 0 1 0 1]\n",
      " [1 0 1 0 1 0 1 0]\n",
      " [0 1 0 1 0 1 0 1]\n",
      " [1 0 1 0 1 0 1 0]\n",
      " [0 1 0 1 0 1 0 1]\n",
      " [1 0 1 0 1 0 1 0]\n",
      " [0 1 0 1 0 1 0 1]\n",
      " [1 0 1 0 1 0 1 0]]\n"
     ]
    }
   ],
   "source": [
    "a = np.ones((8, 8), dtype=int)\n",
    "a[::2, ::2] = 0\n",
    "a[1::2, 1::2] = 0\n",
    "print(a)"
   ]
  },
  {
   "cell_type": "code",
   "execution_count": 25,
   "metadata": {},
   "outputs": [
    {
     "name": "stdout",
     "output_type": "stream",
     "text": [
      "[[0 1 0 1 0 1 0 1]\n",
      " [1 0 1 0 1 0 1 0]\n",
      " [0 1 0 1 0 1 0 1]\n",
      " [1 0 1 0 1 0 1 0]\n",
      " [0 1 0 1 0 1 0 1]\n",
      " [1 0 1 0 1 0 1 0]\n",
      " [0 1 0 1 0 1 0 1]\n",
      " [1 0 1 0 1 0 1 0]]\n"
     ]
    }
   ],
   "source": [
    "a = np.zeros((8, 8), dtype=int)\n",
    "a[::2, 1::2] = 1\n",
    "a[1::2,::2] = 1\n",
    "print(a)"
   ]
  },
  {
   "cell_type": "code",
   "execution_count": 27,
   "metadata": {},
   "outputs": [
    {
     "name": "stdout",
     "output_type": "stream",
     "text": [
      "[[46 89 90 41 64 66 89 53]\n",
      " [69 35 70 74 90 14 72 90]\n",
      " [94 41 90 17 59 95 21 83]\n",
      " [99 89 91 89 66 29 50 27]\n",
      " [98 92 45 78 91 18 10 81]\n",
      " [80 62 37 95 45 69 91 17]\n",
      " [44 35 46 47 11 91 21 34]\n",
      " [59 14 11 94 97 72 35 95]]\n",
      "[[-46 -89  90 -41 -64  66 -89 -53]\n",
      " [ 69 -35 -70 -74  90 -14  72  90]\n",
      " [-94 -41  90 -17 -59 -95  21 -83]\n",
      " [ 99 -89 -91 -89  66 -29 -50  27]\n",
      " [-98 -92  45  78 -91  18 -10  81]\n",
      " [-80 -62 -37 -95  45  69 -91 -17]\n",
      " [-44 -35 -46 -47 -11 -91  21 -34]\n",
      " [-59 -14 -11 -94 -97  72 -35 -95]]\n"
     ]
    }
   ],
   "source": [
    "a = np.random.randint(10, 100, (8, 8))\n",
    "print(a)\n",
    "a[a%3!=0] *= -1\n",
    "print(a)"
   ]
  },
  {
   "cell_type": "code",
   "execution_count": 31,
   "metadata": {},
   "outputs": [
    {
     "name": "stdout",
     "output_type": "stream",
     "text": [
      "Size:  16\n",
      "Shape:  (4, 4)\n",
      "Mean:  -6.5\n",
      "Standard deviation:  65.35862605655049\n",
      "<class 'numpy.ndarray'>\n"
     ]
    }
   ],
   "source": [
    "q2 = a[:4, 4:]\n",
    "print('Size: ', q2.size)\n",
    "print('Shape: ', q2.shape)\n",
    "print('Mean: ', q2.mean())\n",
    "print('Standard deviation: ', np.std(q2))\n",
    "print(type(q2))"
   ]
  },
  {
   "cell_type": "code",
   "execution_count": 32,
   "metadata": {},
   "outputs": [
    {
     "name": "stdout",
     "output_type": "stream",
     "text": [
      "{'Emma': 309, 'John': 204, 'Paul': 105, 'Mary': 105}\n"
     ]
    }
   ],
   "source": [
    "rooms = {'Emma': 309, 'John': 204, 'Paul': 105, 'Mary': 105}\n",
    "print(rooms)"
   ]
  },
  {
   "cell_type": "code",
   "execution_count": 33,
   "metadata": {},
   "outputs": [
    {
     "name": "stdout",
     "output_type": "stream",
     "text": [
      "309\n"
     ]
    }
   ],
   "source": [
    "print(rooms['Emma'])"
   ]
  },
  {
   "cell_type": "code",
   "execution_count": 34,
   "metadata": {},
   "outputs": [
    {
     "name": "stdout",
     "output_type": "stream",
     "text": [
      "{'Emma': 309, 'John': 204, 'Paul': 105, 'Mary': 105, 'Peter': 400}\n"
     ]
    }
   ],
   "source": [
    "rooms['Peter'] = 400 # insert item to dictionary\n",
    "print(rooms)"
   ]
  },
  {
   "cell_type": "code",
   "execution_count": 35,
   "metadata": {},
   "outputs": [
    {
     "name": "stdout",
     "output_type": "stream",
     "text": [
      "{'Emma': 309, 'John': 204, 'Paul': 105, 'Mary': 105, 'Peter': 500}\n"
     ]
    }
   ],
   "source": [
    "rooms['Peter'] = 500 # update item in dictionary\n",
    "print(rooms)"
   ]
  },
  {
   "cell_type": "code",
   "execution_count": 36,
   "metadata": {},
   "outputs": [],
   "source": [
    "# Enter new guest\n",
    "guest = input('Enter guest name: ')\n",
    "room_no = int(input('Enter room number: '))\n",
    "rooms[guest] = room_no"
   ]
  },
  {
   "cell_type": "code",
   "execution_count": 40,
   "metadata": {},
   "outputs": [
    {
     "name": "stdout",
     "output_type": "stream",
     "text": [
      "{'Emma': 309, 'John': 204, 'Paul': 105, 'Mary': 105, 'Peter': 500, 'Kim': 120}\n"
     ]
    }
   ],
   "source": [
    "print(rooms)"
   ]
  },
  {
   "cell_type": "code",
   "execution_count": 39,
   "metadata": {},
   "outputs": [],
   "source": [
    "# Change room for a guest\n",
    "guest = input('Enter guest name: ')\n",
    "# check if guest is in the dictionary\n",
    "if guest in rooms:\n",
    "    room_no = int(input('Enter new room number: '))\n",
    "    rooms[guest] = room_no\n",
    "else:\n",
    "    print('Guest not found')"
   ]
  },
  {
   "cell_type": "code",
   "execution_count": 42,
   "metadata": {},
   "outputs": [
    {
     "name": "stdout",
     "output_type": "stream",
     "text": [
      "Guest Emma check out\n",
      "Room 309 is available\n"
     ]
    }
   ],
   "source": [
    "# Guest check out\n",
    "guest = input('Enter guest name: ')\n",
    "if guest in rooms:\n",
    "    room_no = rooms.pop(guest)\n",
    "    print('Guest', guest, 'check out')\n",
    "    print('Room {} is available'.format(room_no))\n",
    "else:\n",
    "    print('Guest not found')"
   ]
  },
  {
   "cell_type": "code",
   "execution_count": 43,
   "metadata": {},
   "outputs": [
    {
     "name": "stdout",
     "output_type": "stream",
     "text": [
      "{'John': 204, 'Paul': 105, 'Mary': 105, 'Peter': 500, 'Kim': 120}\n"
     ]
    }
   ],
   "source": [
    "print(rooms)"
   ]
  },
  {
   "cell_type": "code",
   "execution_count": 47,
   "metadata": {},
   "outputs": [
    {
     "name": "stdout",
     "output_type": "stream",
     "text": [
      "['John', 'Paul', 'Mary', 'Peter', 'Kim']\n",
      "dict_values([204, 105, 105, 500, 120])\n",
      "204\n"
     ]
    }
   ],
   "source": [
    "print(list(rooms.keys()))\n",
    "print(rooms.values())\n",
    "print(rooms.get('John'))"
   ]
  },
  {
   "cell_type": "code",
   "execution_count": null,
   "metadata": {},
   "outputs": [],
   "source": []
  }
 ],
 "metadata": {
  "kernelspec": {
   "display_name": "Python 3.9.12 64-bit",
   "language": "python",
   "name": "python3"
  },
  "language_info": {
   "codemirror_mode": {
    "name": "ipython",
    "version": 3
   },
   "file_extension": ".py",
   "mimetype": "text/x-python",
   "name": "python",
   "nbconvert_exporter": "python",
   "pygments_lexer": "ipython3",
   "version": "3.9.12"
  },
  "orig_nbformat": 4,
  "vscode": {
   "interpreter": {
    "hash": "aee8b7b246df8f9039afb4144a1f6fd8d2ca17a180786b69acc140d282b71a49"
   }
  }
 },
 "nbformat": 4,
 "nbformat_minor": 2
}
